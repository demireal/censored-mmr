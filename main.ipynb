{
 "cells": [
  {
   "cell_type": "code",
   "execution_count": 1,
   "metadata": {},
   "outputs": [],
   "source": [
    "import warnings\n",
    "warnings.filterwarnings(\"ignore\")\n",
    "\n",
    "import numpy as np\n",
    "import pandas as pd\n",
    "import matplotlib.pyplot as plt\n",
    "import json\n",
    "import time\n",
    "\n",
    "from sklearn.metrics.pairwise import rbf_kernel, laplacian_kernel\n",
    "from sklearn.neighbors import KernelDensity\n",
    "import statsmodels.api as sma\n",
    "\n",
    "from scipy.integrate import quad\n",
    "from scipy.interpolate import interp1d\n",
    "\n",
    "from SyntheticDataModule import *\n",
    "from IHDPDataModule import *\n",
    "from estimators import *\n",
    "from utils import *\n",
    "from mmr_utils import *"
   ]
  },
  {
   "cell_type": "code",
   "execution_count": 2,
   "metadata": {},
   "outputs": [],
   "source": [
    "whi_cont = pd.read_csv('/data/whi/data/main_study/processed/cont_table.csv')\n",
    "whi_ctos = pd.read_csv('/data/whi/data/main_study/processed/ctos_table.csv')\n",
    "whi_merged = pd.read_csv('/data/whi/data/main_study/processed/merged.csv')"
   ]
  },
  {
   "cell_type": "code",
   "execution_count": null,
   "metadata": {},
   "outputs": [],
   "source": [
    "whi_cont"
   ]
  },
  {
   "cell_type": "code",
   "execution_count": null,
   "metadata": {},
   "outputs": [],
   "source": [
    "whi_ctos"
   ]
  },
  {
   "cell_type": "code",
   "execution_count": null,
   "metadata": {},
   "outputs": [],
   "source": []
  },
  {
   "cell_type": "code",
   "execution_count": null,
   "metadata": {},
   "outputs": [],
   "source": []
  },
  {
   "cell_type": "code",
   "execution_count": null,
   "metadata": {},
   "outputs": [],
   "source": [
    "whi_ctos.loc[20]"
   ]
  },
  {
   "cell_type": "code",
   "execution_count": null,
   "metadata": {},
   "outputs": [],
   "source": [
    "whi_cont.columns"
   ]
  },
  {
   "cell_type": "code",
   "execution_count": null,
   "metadata": {},
   "outputs": [],
   "source": [
    "whi_merged[]"
   ]
  },
  {
   "cell_type": "code",
   "execution_count": null,
   "metadata": {},
   "outputs": [],
   "source": []
  },
  {
   "cell_type": "code",
   "execution_count": null,
   "metadata": {},
   "outputs": [],
   "source": [
    "whi_ctos['GLBL_E']"
   ]
  },
  {
   "cell_type": "code",
   "execution_count": null,
   "metadata": {},
   "outputs": [],
   "source": [
    "whi_ctos"
   ]
  },
  {
   "cell_type": "code",
   "execution_count": null,
   "metadata": {},
   "outputs": [],
   "source": []
  },
  {
   "cell_type": "code",
   "execution_count": 29,
   "metadata": {},
   "outputs": [],
   "source": [
    "out = pd.read_csv(\"/data/whi/data/main_study/csv/outc_adj_bio.csv\")\n",
    "# Table with CT follow-up information\n",
    "ct_fu = pd.read_csv(\"/data/whi/data/main_study/csv/adh_ht_pub.csv\")\n",
    "# Table with study participation and treatment arm information\n",
    "std_trt = pd.read_csv(\"/data/whi/data/main_study/csv/dem_ctos_bio.csv\")"
   ]
  },
  {
   "cell_type": "code",
   "execution_count": null,
   "metadata": {},
   "outputs": [],
   "source": [
    "ct_fu"
   ]
  },
  {
   "cell_type": "code",
   "execution_count": null,
   "metadata": {},
   "outputs": [],
   "source": []
  },
  {
   "cell_type": "code",
   "execution_count": null,
   "metadata": {},
   "outputs": [],
   "source": []
  },
  {
   "cell_type": "code",
   "execution_count": null,
   "metadata": {},
   "outputs": [],
   "source": []
  },
  {
   "cell_type": "code",
   "execution_count": null,
   "metadata": {},
   "outputs": [],
   "source": [
    "std_trt[\"_E\"]"
   ]
  },
  {
   "cell_type": "code",
   "execution_count": null,
   "metadata": {},
   "outputs": [],
   "source": []
  },
  {
   "cell_type": "code",
   "execution_count": null,
   "metadata": {},
   "outputs": [],
   "source": []
  },
  {
   "cell_type": "code",
   "execution_count": null,
   "metadata": {},
   "outputs": [],
   "source": []
  },
  {
   "cell_type": "code",
   "execution_count": null,
   "metadata": {},
   "outputs": [],
   "source": []
  },
  {
   "cell_type": "code",
   "execution_count": null,
   "metadata": {},
   "outputs": [],
   "source": [
    "plt.hist(whi_ctos['CHD_DY'],bins=100)"
   ]
  },
  {
   "cell_type": "code",
   "execution_count": null,
   "metadata": {},
   "outputs": [],
   "source": [
    "whi_cont"
   ]
  },
  {
   "cell_type": "code",
   "execution_count": null,
   "metadata": {},
   "outputs": [],
   "source": [
    "whi_ctos"
   ]
  },
  {
   "cell_type": "code",
   "execution_count": null,
   "metadata": {},
   "outputs": [],
   "source": [
    "whi_merged"
   ]
  },
  {
   "cell_type": "code",
   "execution_count": null,
   "metadata": {},
   "outputs": [],
   "source": []
  },
  {
   "cell_type": "code",
   "execution_count": null,
   "metadata": {},
   "outputs": [],
   "source": [
    "pd.read_csv('/data/whi/main_study_documentation/Data Dictionary.pdf')"
   ]
  },
  {
   "cell_type": "code",
   "execution_count": null,
   "metadata": {},
   "outputs": [],
   "source": []
  },
  {
   "cell_type": "code",
   "execution_count": null,
   "metadata": {},
   "outputs": [],
   "source": []
  },
  {
   "cell_type": "code",
   "execution_count": null,
   "metadata": {},
   "outputs": [],
   "source": [
    "whi"
   ]
  },
  {
   "cell_type": "code",
   "execution_count": null,
   "metadata": {},
   "outputs": [],
   "source": [
    "ORIG_COL_NAMES = [\"twin\", \"b.head\", \"preterm\", \"momage\", \"bw\", \"b.marr\", \"nnhealth\", \"birth.o\", \"momhisp\", \"sex\"]\n",
    "CONT_COLS = [\"b.head\", \"preterm\", \"momage\", \"bw\", \"nnhealth\", \"birth.o\"]\n",
    "DISC_COLS = [\"twin\", \"b.marr\", \"momhisp\", \"sex\"]\n",
    "COL_NAME_DICT = {f\"X{i+1}\": col  for i,col in enumerate(ORIG_COL_NAMES)}\n",
    "\n",
    "ihdp_df = pd.read_csv('data/ihdp/ihdp.csv')[ORIG_COL_NAMES]\n",
    "\n",
    "scaler = MinMaxScaler()\n",
    "ihdp_df[CONT_COLS] = scaler.fit_transform(ihdp_df[CONT_COLS])\n",
    "ihdp_df[DISC_COLS] = ihdp_df[DISC_COLS] - 0.5\n",
    "\n",
    "sns.heatmap(ihdp_df.corr(), cmap='RdBu')"
   ]
  },
  {
   "cell_type": "code",
   "execution_count": null,
   "metadata": {
    "scrolled": false
   },
   "outputs": [],
   "source": [
    "mmr_keys = [\"IPCW\", \"CDR\"]\n",
    "CD = 10\n",
    "UC = 0\n",
    "jD = read_json('ihdp/diffPOihdp-highdiff_GC.json', CD, UC, mmr_keys)\n",
    "jD = read_json('ihdp/samePOihdp_GC.json', CD, UC, mmr_keys)\n",
    "\n",
    "\n",
    "m = 1\n",
    "os_size = int(jD['rct_size'] * m)\n",
    "\n",
    "t1 = time()\n",
    "\n",
    "df_combined, df_comb_drop, RCTData, OSData = generate_data(CD, os_size, jD)\n",
    "Fb_Y, Gb_C = est_nuisance(df_combined, df_comb_drop, jD)\n",
    "\n",
    "print('RCT size: {}, OS size: {}, time elapsed: {:.2f}'.format(jD['rct_size'], os_size, time() - t1))\n",
    "\n",
    "summary_df = pd.concat([RCTData.summary(plot=True), OSData.summary(plot=True)], axis=0, ignore_index=True)\n",
    "summary_df\n",
    "\n",
    "crop_prop = True\n",
    "\n",
    "mmr_stats = np.zeros((len(mmr_keys), 2))  # store results and p-val for each mmr test\n",
    "\n",
    "# for kind, key in enumerate(mmr_keys):\n",
    "#     if 'Drop' in key:\n",
    "#         df_mmr = df_comb_drop.copy()\n",
    "#     else:\n",
    "#         df_mmr = df_combined.copy()\n",
    "\n",
    "#     if jD['crop_prop'] and ('Drop' not in key):\n",
    "#         df_mmr = df_mmr[(0.05 < df_mmr['P(S=1|X)']) & (df_mmr['P(S=1|X)'] < 0.95) &\\\n",
    "#                 (0.05 < df_mmr['P(A=1|X,S)']) & (df_mmr['P(A=1|X,S)'] < 0.95) &\\\n",
    "#                 (1e-4 < df_mmr['Gb(T|X,S,A)'])].copy().reset_index(drop=True)\n",
    "\n",
    "#     if jD['crop_prop'] and ('Drop' in key):\n",
    "#         df_mmr = df_mmr[(0.05 < df_mmr['P(S=1|X)']) & (df_mmr['P(S=1|X)'] < 0.95) &\\\n",
    "#                 (0.05 < df_mmr['P(A=1|X,S)']) & (df_mmr['P(A=1|X,S)'] < 0.95)].copy().reset_index(drop=True)\n",
    "\n",
    "#     signal0, signal1 = jD['test_signals'][key][0], jD['test_signals'][key][1]\n",
    "#     mmr_stats[kind, 0], mmr_stats[kind, 1] = mmr_test(df_mmr, jD['cov_list'], jD['B'], laplacian_kernel, signal0, signal1)"
   ]
  },
  {
   "cell_type": "code",
   "execution_count": null,
   "metadata": {},
   "outputs": [],
   "source": [
    "df_combined['Gb(T|X,S,A)'].min()"
   ]
  },
  {
   "cell_type": "code",
   "execution_count": null,
   "metadata": {
    "scrolled": false
   },
   "outputs": [],
   "source": [
    "for xname in COL_NAME_DICT.keys():\n",
    "    plot_wit_fn(df_combined, laplacian_kernel, xname, \"S0_cdr_Miss_None_est_CATE\", \"S1_cdr_Miss_None_est_CATE\", plot_marg=False, weight_marg=True)\n",
    "    plot_wit_fn(df_combined, laplacian_kernel, xname, \"S0_cdr_Miss_None_est_CATE\", \"S1_cdr_Miss_None_est_CATE\", plot_marg=True, weight_marg=False)"
   ]
  },
  {
   "cell_type": "code",
   "execution_count": null,
   "metadata": {},
   "outputs": [],
   "source": [
    "np.clip([0.4,0.7], a_max=1000, a_min=0.5)"
   ]
  },
  {
   "cell_type": "code",
   "execution_count": null,
   "metadata": {},
   "outputs": [],
   "source": []
  },
  {
   "cell_type": "code",
   "execution_count": null,
   "metadata": {},
   "outputs": [],
   "source": [
    "data = np.array(df_combined['X10'])\n",
    "dens = sma.nonparametric.KDEUnivariate(data)\n",
    "dens.fit()\n",
    "x = np.linspace(0,1,100) #restrict range to (0,1)\n",
    "y = dens.evaluate(data)"
   ]
  },
  {
   "cell_type": "code",
   "execution_count": null,
   "metadata": {},
   "outputs": [],
   "source": [
    "dens.evaluate(data).shape"
   ]
  },
  {
   "cell_type": "code",
   "execution_count": null,
   "metadata": {},
   "outputs": [],
   "source": [
    "mmr_stats"
   ]
  },
  {
   "cell_type": "code",
   "execution_count": null,
   "metadata": {},
   "outputs": [],
   "source": [
    "def calc_wit_fn(df, kernel, x_name, x_arr, signal0, signal1, weight_marg=True):\n",
    "    kxx = kernel(x_arr.reshape(-1,1), np.array(df[x_name]).reshape(-1,1))\n",
    "    psi = np.array(df[signal1] - df[signal0])\n",
    "    \n",
    "    if weight_marg:\n",
    "        data = np.array(df[x_name])\n",
    "        dens = sma.nonparametric.KDEUnivariate(data)\n",
    "        dens.fit()\n",
    "        #pdb.set_trace()\n",
    "        return (kxx @ psi) / (len(psi) * np.clip(dens.evaluate(x_arr), a_max=1000, a_min=0.5)) , kxx, psi\n",
    "    else:\n",
    "        return (kxx @ psi) / len(psi), kxx, psi\n",
    "\n",
    "def plot_wit_fn(df, kernel, x_name, signal0, signal1, plot_marg=False, weight_marg=True):\n",
    "    plt.figure()\n",
    "    if COL_NAME_DICT[x_name] in DISC_COLS:\n",
    "        x_arr = np.array([-0.5,0.5])\n",
    "        wit_fn,_,_ = calc_wit_fn(df, kernel, x_name, x_arr, signal0, signal1, weight_marg)\n",
    "        plt.scatter(x_arr + 0.5, wit_fn)\n",
    "    else:\n",
    "        x_arr = np.linspace(0,1,101)\n",
    "        wit_fn,_,_ = calc_wit_fn(df, kernel, x_name, x_arr, signal0, signal1, weight_marg)\n",
    "        plt.plot(x_arr, wit_fn)\n",
    "        \n",
    "    plt.xlabel(COL_NAME_DICT[x_name])\n",
    "    plt.ylabel('Witness function')\n",
    "    plt.show()\n",
    "    \n",
    "    if plot_marg:\n",
    "        plt.figure()\n",
    "        plt.hist(df[x_name])\n",
    "        plt.xlabel(COL_NAME_DICT[x_name])"
   ]
  },
  {
   "cell_type": "code",
   "execution_count": null,
   "metadata": {},
   "outputs": [],
   "source": [
    "mis_spec = 'Fb'\n",
    "cov_vals = np.zeros(CD+1)\n",
    "\n",
    "s, a = 0,1\n",
    "x = np.zeros(CD + 1)\n",
    "key\n",
    "ty, sty = Fb_Y[f't_S{s}_A{a}'], Fb_Y[f'St_S{s}_A{a}_true']\n",
    "tc, stc = Gb_C[f't_S{s}_A{a}'], Gb_C[f'St_S{s}_A{a}']\n",
    "\n",
    "t_arr = ty #\n",
    "st_arr = sty  \n",
    "\n",
    "func = interp1d(t_arr, st_arr, kind='linear', fill_value='extrapolate')\n",
    "\n",
    "xnew = np.arange(0, t_arr.max(), 0.1)\n",
    "ynew = func(xnew)   # use interpolation function returned by `interp1d`\n",
    "tbs_Y = RCTData.get_oracle_surv_curve(t_arr, cov_vals, f'Y{a}')\n",
    "\n",
    "plt.figure()\n",
    "plt.plot(t_arr, tbs_Y, label=f'true Y{a}', ls ='-.', alpha= 0.4)\n",
    "plt.plot(t_arr, st_arr, label='est', ls='-', alpha= 0.4)\n",
    "plt.plot(xnew, ynew, label='func approx', ls='--', alpha= 0.4)\n",
    "plt.legend()\n",
    "plt.show()\n",
    "\n",
    "# Trange = tc.copy()\n",
    "\n",
    "# t1 = time()\n",
    "# q_arr = eval_Qfunc_arr_(s, a, x, Trange, Fb_Y, mis_spec)\n",
    "# print(f\"Time: {time() - t1}\")\n",
    "# plt.figure()\n",
    "# plt.plot(Trange, q_arr)\n",
    "# plt.show()"
   ]
  },
  {
   "cell_type": "code",
   "execution_count": null,
   "metadata": {},
   "outputs": [],
   "source": [
    "t_arr"
   ]
  },
  {
   "cell_type": "code",
   "execution_count": null,
   "metadata": {
    "scrolled": false
   },
   "outputs": [],
   "source": [
    "mis_spec = 'None'\n",
    "cov_vals = np.array([0,0, 1, 0, 1, 1, 0, 1, 1, 1 ,1])\n",
    "cov_vals = np.zeros(11)\n",
    "\n",
    "\n",
    "s, a = 1,1\n",
    "x = np.zeros(CD + 1)\n",
    "key\n",
    "ty, sty = Fb_Y[f't_S{s}_A{a}'], Fb_Y[f'St_S{s}_A{a}']\n",
    "tc, stc = Gb_C[f't_S{s}_A{a}'], Gb_C[f'St_S{s}_A{a}']\n",
    "\n",
    "t_arr = tc #\n",
    "st_arr = stc  \n",
    "\n",
    "func = interp1d(t_arr, st_arr, kind='nearest', fill_value='extrapolate')\n",
    "\n",
    "ynew = func(t_arr)   # use interpolation function returned by `interp1d`\n",
    "tbs_C = OSData.get_oracle_surv_curve(t_arr, cov_vals, f'C{a}')\n",
    "\n",
    "plt.figure()\n",
    "plt.plot(t_arr, tbs_C, label=f'true C{a}', ls ='-.', alpha= 0.4)\n",
    "plt.plot(t_arr, st_arr, label='est', ls='-', alpha= 0.4)\n",
    "plt.plot(t_arr, ynew, label='func approx', ls='--', alpha= 0.4)\n",
    "plt.legend()\n",
    "plt.show()\n",
    "\n",
    "# Trange = tc.copy()\n",
    "\n",
    "# t1 = time()\n",
    "# q_arr = eval_Qfunc_arr_(s, a, x, Trange, Fb_Y, mis_spec)\n",
    "# print(f\"Time: {time() - t1}\")\n",
    "# plt.figure()\n",
    "# plt.plot(Trange, q_arr)\n",
    "# plt.show()"
   ]
  },
  {
   "cell_type": "code",
   "execution_count": null,
   "metadata": {},
   "outputs": [],
   "source": [
    "row = 2088\n",
    "\n",
    "s = df_combined.loc[row, 'S']\n",
    "a = df_combined.loc[row, 'A']\n",
    "x = np.array(df_combined.loc[row, jD['cov_list']])\n",
    "T = df_combined.loc[row, 'T']\n",
    "Delta = df_combined.loc[row, 'Delta']\n",
    "\n",
    "df_combined.loc[row]"
   ]
  },
  {
   "cell_type": "code",
   "execution_count": null,
   "metadata": {},
   "outputs": [],
   "source": []
  },
  {
   "cell_type": "code",
   "execution_count": null,
   "metadata": {},
   "outputs": [],
   "source": [
    "np.array([1,1]) @ 0"
   ]
  },
  {
   "cell_type": "code",
   "execution_count": null,
   "metadata": {},
   "outputs": [],
   "source": [
    "row = 922\n",
    "\n",
    "s = df_mmr.loc[row, 'S']\n",
    "a = df_mmr.loc[row, 'A']\n",
    "x = np.array(df_combined.loc[row, jD['cov_list']])\n",
    "T = df_mmr.loc[row, 'T']\n",
    "Delta = df_mmr.loc[row, 'Delta']\n",
    "\n",
    "df_mmr.loc[row]"
   ]
  },
  {
   "cell_type": "code",
   "execution_count": null,
   "metadata": {},
   "outputs": [],
   "source": [
    "mis_spec = 'None'"
   ]
  },
  {
   "cell_type": "code",
   "execution_count": null,
   "metadata": {},
   "outputs": [],
   "source": [
    "eval_surv_(Gb_C[f't_S{s}_A{a}'], Gb_C[f'St_S{s}_A{a}'], T)"
   ]
  },
  {
   "cell_type": "code",
   "execution_count": null,
   "metadata": {},
   "outputs": [],
   "source": [
    "eval_int_term_(s, a, x, T, Gb_C, Fb_Y, mis_spec)"
   ]
  },
  {
   "cell_type": "code",
   "execution_count": null,
   "metadata": {},
   "outputs": [],
   "source": [
    "eval_Ystar_(s, a, x, Delta, T, Gb_C, Fb_Y, mis_spec)"
   ]
  },
  {
   "cell_type": "code",
   "execution_count": null,
   "metadata": {},
   "outputs": [],
   "source": [
    "eval_Qfunc_(s, a, x, T, Fb_Y, mis_spec)"
   ]
  },
  {
   "cell_type": "code",
   "execution_count": null,
   "metadata": {},
   "outputs": [],
   "source": [
    "eval_mu_(s, 1, x, Fb_Y, mis_spec)"
   ]
  },
  {
   "cell_type": "code",
   "execution_count": null,
   "metadata": {},
   "outputs": [],
   "source": [
    "s, a = 0, 0\n",
    "ty, sty = Fb_Y[f't_S{s}_A{a}'], Fb_Y[f'St_S{s}_A{a}']\n",
    "tc, stc = Gb_C[f't_S{s}_A{a}'], Gb_C[f'St_S{s}_A{a}']\n",
    "\n",
    "t_arr = tc #\n",
    "st_arr = stc  \n",
    "\n",
    "t1 = time()\n",
    "func = interp1d(t_arr, st_arr, kind='nearest', fill_value='extrapolate')\n",
    "result, error = quad(func, 0, t_arr.max() + 10, limit=5)\n",
    "\n",
    "print(f\"Time: {time()-t1:.2f} s.\")\n",
    "print(f\"Result of integration: {result}, error: {error}\")\n",
    "\n",
    "xnew = np.arange(0, t_arr.max(), 0.1)\n",
    "ynew = func(xnew)   # use interpolation function returned by `interp1d`\n",
    "plt.plot(t_arr, st_arr, 'o', xnew, ynew, '--')\n",
    "plt.show()"
   ]
  },
  {
   "cell_type": "code",
   "execution_count": null,
   "metadata": {},
   "outputs": [],
   "source": [
    "pv = np.load('results/ihdp/samePOihdp/CD-10/UC-1/pvals.npy')\n",
    "#csv = pd.read_csv('results/complete-IC/samePO/CD-10/UC-0/res_summary.csv')\n",
    "\n",
    "np.mean(pv[2], axis=1)"
   ]
  },
  {
   "cell_type": "code",
   "execution_count": null,
   "metadata": {},
   "outputs": [],
   "source": [
    "for s in range(2):\n",
    "    for a in range(2):\n",
    "        print('-----\\n-----')\n",
    "        #df = df_combined.query(f\"S == {s} & A == {a}\").copy()  # all data\n",
    "        df = df_mmr.query(f\"S == {s} & A == {a}\").copy()       # goes into MMR (after cropping etc.)\n",
    "\n",
    "        Ystar_No_miss = f'S{s}_Ystar{a}_Miss_None_est_CATE'\n",
    "        Ystar_Fb_miss = f'S{s}_Ystar{a}_Miss_Fb_est_CATE'\n",
    "        Ystar_Gb_miss = f'S{s}_Ystar{a}_Miss_Gb_est_CATE'\n",
    "        \n",
    "        mu_No_miss = f'S{s}_muxsa{a}_Miss_None_est_CATE'\n",
    "        mu_Fb_miss = f'S{s}_muxsa{a}_Miss_Fb_est_CATE'\n",
    "        mu_Gb_miss = f'S{s}_muxsa{a}_Miss_Gb_est_CATE'\n",
    "\n",
    "        print(\"E[Y|S={}, A={}]: {:.2f}\".format(s ,a, df[f'Y{a}'].mean()))\n",
    "        print(\"E[Ystar_No_miss|S={}, A={}]: {:.2f}\".format(s, a, df[Ystar_No_miss].mean()))\n",
    "        print(\"E[Ystar_Fb_miss|S={}, A={}]: {:.2f}\".format(s, a, df[Ystar_Fb_miss].mean()))\n",
    "        print(\"E[Ystar_Gb_miss|S={}, A={}]: {:.2f}\".format(s, a, df[Ystar_Gb_miss].mean()))\n",
    "        print(\"E[mu_No_miss|S={}, A={}]: {:.2f}\".format(s, a, df[mu_No_miss].mean()))\n",
    "        print(\"E[mu_Fb_miss|S={}, A={}]: {:.2f}\".format(s, a, df[mu_Fb_miss].mean()))\n",
    "        print(\"E[mu_Gb_miss|S={}, A={}]: {:.2f}\".format(s, a, df[mu_Gb_miss].mean()))"
   ]
  },
  {
   "cell_type": "code",
   "execution_count": null,
   "metadata": {
    "scrolled": false
   },
   "outputs": [],
   "source": [
    "x_space = np.linspace(-10,10,401)\n",
    "cov_name = 'X1'\n",
    "os_oracle_prop = OSData.calc_oracle_prop(x_space, cov_name)\n",
    "plt.figure()\n",
    "plt.plot(x_space, os_oracle_prop)\n",
    "plt.xlabel(cov_name)\n",
    "plt.ylabel(f'P(A=1|{cov_name},S=1)')\n",
    "plt.title(f'Oracle propensity score in study S=1 wrt covariate {cov_name}')\n",
    "plt.show()\n",
    "\n",
    "t = np.linspace(0,20,101)\n",
    "cov_vals = [0, 0, 0, 0]\n",
    "tbs_Y0 = RCTData.get_oracle_surv_curve(t, cov_vals, 'Y0')\n",
    "tbs_Y1 = RCTData.get_oracle_surv_curve(t, cov_vals, 'Y1')\n",
    "tbs_C0 = RCTData.get_oracle_surv_curve(t, cov_vals, 'C0')\n",
    "tbs_C1 = RCTData.get_oracle_surv_curve(t, cov_vals, 'C1')\n",
    "plt.figure()\n",
    "plt.plot(t, tbs_Y0, label='Y0', alpha= 0.4, ls ='--')\n",
    "plt.plot(t, tbs_Y1, label='Y1', alpha= 1, ls ='-.')\n",
    "plt.plot(t, tbs_C0, label='C0', alpha= 0.4)\n",
    "plt.plot(t, tbs_C1, label='C1', alpha= 0.4)\n",
    "plt.xlabel('t')\n",
    "plt.ylabel(r'$S(t)$')\n",
    "plt.title(f'True survival curves in study S=0 with X={cov_vals}')\n",
    "plt.legend()\n",
    "plt.show()"
   ]
  }
 ],
 "metadata": {
  "kernelspec": {
   "display_name": "Python 3 (ipykernel)",
   "language": "python",
   "name": "python3"
  },
  "language_info": {
   "codemirror_mode": {
    "name": "ipython",
    "version": 3
   },
   "file_extension": ".py",
   "mimetype": "text/x-python",
   "name": "python",
   "nbconvert_exporter": "python",
   "pygments_lexer": "ipython3",
   "version": "3.9.16"
  }
 },
 "nbformat": 4,
 "nbformat_minor": 2
}
