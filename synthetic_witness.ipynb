{
 "cells": [
  {
   "cell_type": "code",
   "execution_count": null,
   "metadata": {},
   "outputs": [],
   "source": [
    "import warnings\n",
    "warnings.filterwarnings(\"ignore\")\n",
    "\n",
    "import numpy as np\n",
    "import pandas as pd\n",
    "import matplotlib.pyplot as plt\n",
    "import json\n",
    "import time\n",
    "\n",
    "from sklearn.metrics.pairwise import rbf_kernel, laplacian_kernel\n",
    "from sklearn.neighbors import KernelDensity\n",
    "import statsmodels.api as sma\n",
    "\n",
    "from scipy.integrate import quad\n",
    "from scipy.interpolate import interp1d\n",
    "\n",
    "from SyntheticDataModule import *\n",
    "from IHDPDataModule import *\n",
    "from estimators import *\n",
    "from utils import *\n",
    "from mmr_utils import *"
   ]
  },
  {
   "cell_type": "code",
   "execution_count": null,
   "metadata": {},
   "outputs": [],
   "source": [
    "COL_NAME_DICT = dict(zip([\"X0\", \"X1\", \"X2\", \"X3\", \"X4\", \"X5\", \"X6\", \"X7\", \"X8\", \"X9\", \"X10\"],[\"X0\", \"X1\", \"X2\", \"X3\", \"X4\", \"X5\", \"X6\", \"X7\", \"X8\", \"X9\", \"X10\"]))"
   ]
  },
  {
   "cell_type": "code",
   "execution_count": null,
   "metadata": {},
   "outputs": [],
   "source": [
    "mmr_keys = [\"CDR\", \"IPW-Drop\"]\n",
    "CD = 10\n",
    "UC = 0\n",
    "jD = read_json('conditional-IC/diffPO-3beta.json', CD, UC, mmr_keys)\n",
    "\n",
    "m = 2\n",
    "os_size = int(jD['rct_size'] * m)\n",
    "\n",
    "t1 = time()\n",
    "\n",
    "df_combined, df_comb_drop, RCTData, OSData = generate_data(CD, os_size, jD)\n",
    "Fb_Y, Gb_C = est_nuisance(df_combined, df_comb_drop, jD)\n",
    "\n",
    "print('RCT size: {}, OS size: {}, time elapsed: {:.2f}'.format(jD['rct_size'], os_size, time() - t1))\n",
    "\n",
    "summary_df = pd.concat([RCTData.summary(plot=True), OSData.summary(plot=True)], axis=0, ignore_index=True)\n",
    "summary_df\n",
    "\n",
    "crop_prop = True"
   ]
  },
  {
   "cell_type": "code",
   "execution_count": null,
   "metadata": {},
   "outputs": [],
   "source": [
    "mmr_stats = np.zeros((len(mmr_keys), 2))  # store results and p-val for each mmr test\n",
    "\n",
    "for kind, key in enumerate(mmr_keys):\n",
    "    if 'Drop' in key:\n",
    "        df_mmr = df_comb_drop.copy()\n",
    "    else:\n",
    "        df_mmr = df_combined.copy()\n",
    "\n",
    "    if jD['crop_prop'] and ('Drop' not in key):\n",
    "        df_mmr = df_mmr[(0.05 < df_mmr['P(S=1|X)']) & (df_mmr['P(S=1|X)'] < 0.95) &\\\n",
    "                (0.05 < df_mmr['P(A=1|X,S)']) & (df_mmr['P(A=1|X,S)'] < 0.95) &\\\n",
    "                (1e-4 < df_mmr['Gb(T|X,S,A)'])].copy().reset_index(drop=True)\n",
    "\n",
    "    if jD['crop_prop'] and ('Drop' in key):\n",
    "        df_mmr = df_mmr[(0.05 < df_mmr['P(S=1|X)']) & (df_mmr['P(S=1|X)'] < 0.95) &\\\n",
    "                (0.05 < df_mmr['P(A=1|X,S)']) & (df_mmr['P(A=1|X,S)'] < 0.95)].copy().reset_index(drop=True)\n",
    "\n",
    "    signal0, signal1 = jD['test_signals'][key][0], jD['test_signals'][key][1]\n",
    "    mmr_stats[kind, 0], mmr_stats[kind, 1] = mmr_test(df_mmr, jD['cov_list'], jD['B'], laplacian_kernel, signal0, signal1)"
   ]
  },
  {
   "cell_type": "code",
   "execution_count": null,
   "metadata": {},
   "outputs": [],
   "source": [
    "def calc_wit_fn(df, kernel, x_arr, signal0, signal1, weight_marg=True):\n",
    "    kxx = kernel(x_arr, df[COL_NAME_DICT.keys()].values)\n",
    "    #kxx = kernel(x_arr.reshape(-1,1), np.array(df[x_name]).reshape(-1,1))\n",
    "    psi = (df[signal1] - df[signal0]).values[None,:]\n",
    "    \n",
    "    #if weight_marg:\n",
    "    #    data = np.array(df[x_name])\n",
    "    #    dens = sma.nonparametric.KDEUnivariate(data)\n",
    "    #    dens.fit()\n",
    "    #    #pdb.set_trace()\n",
    "    #    return (kxx @ psi) / (len(psi) * np.clip(dens.evaluate(x_arr), a_max=1000, a_min=0.5)) , kxx, psi\n",
    "    # else:\n",
    "    if weight_marg:\n",
    "        norm = np.mean(kxx, axis=1)\n",
    "    else:\n",
    "        norm = 1\n",
    "    return np.mean(kxx * psi,axis=1) / norm, kxx, psi, norm"
   ]
  },
  {
   "cell_type": "code",
   "execution_count": null,
   "metadata": {},
   "outputs": [],
   "source": [
    "calc_wit_fn(df_combined,laplacian_kernel,df_combined[COL_NAME_DICT.keys()].values,\"S0_cdr_Miss_None_est_CATE\",\"S1_cdr_Miss_None_est_CATE\")[0].shape"
   ]
  },
  {
   "cell_type": "code",
   "execution_count": null,
   "metadata": {},
   "outputs": [],
   "source": [
    "witness_fun = calc_wit_fn(df_combined,laplacian_kernel,df_combined[COL_NAME_DICT.keys()].values,\"S0_cdr_Miss_None_est_CATE\",\"S1_cdr_Miss_None_est_CATE\")[0]"
   ]
  },
  {
   "cell_type": "code",
   "execution_count": null,
   "metadata": {},
   "outputs": [],
   "source": [
    "witness_fun = calc_wit_fn(df_combined,laplacian_kernel,df_combined[COL_NAME_DICT.keys()].values,\"S0_cdr_Miss_None_est_CATE\",\"S1_cdr_Miss_None_est_CATE\", weight_marg=True)[0]\n",
    "\n",
    "fig, axs = plt.subplots(figsize = (10,15), nrows = 5, ncols = 2)\n",
    "\n",
    "for i, col in enumerate(list(COL_NAME_DICT.keys())[1:]):\n",
    "    ax = axs[i%5, i//5]\n",
    "    ax.scatter(df_combined[col], witness_fun, alpha = 0.5)\n",
    "    m, b = np.polyfit(df_combined[col], witness_fun, 1)\n",
    "    corr = np.corrcoef(df_combined[col].values, witness_fun)[0,1]\n",
    "    ax.plot(df_combined[col], m*df_combined[col] + b, color='red', label = f\"rho = {corr:.2f}\")\n",
    "    ax.set_xlabel(f\"{COL_NAME_DICT[col]}\")\n",
    "    ax.set_ylabel(\"Witness function\")\n",
    "    ax.legend(fontsize = 12)\n",
    "\n",
    "plt.suptitle(\"Witness function vs. covariates\", fontsize = 20)\n",
    "plt.tight_layout()"
   ]
  },
  {
   "cell_type": "code",
   "execution_count": null,
   "metadata": {},
   "outputs": [],
   "source": [
    "repeats = 20\n",
    "for i, col in enumerate(COL_NAME_DICT.keys()):\n",
    "    means = (df_combined[COL_NAME_DICT.keys()].mean().values)[None].repeat(100,axis=0)\n",
    "    means[:,i] = np.linspace(-3,3,100)\n",
    "    witness_fun = calc_wit_fn(df_combined,laplacian_kernel,means,\"S0_cdr_Miss_None_est_CATE\",\"S1_cdr_Miss_None_est_CATE\", weight_marg=True)[0]\n",
    "    plt.plot(np.linspace(-3,3,100),witness_fun, label = f\"{COL_NAME_DICT[col]}\")\n",
    "\n",
    "    stds_list = []\n",
    "    for _ in range(repeats):\n",
    "        stds = (df_combined[COL_NAME_DICT.keys()].mean().values)[None].repeat(100,axis=0) \n",
    "        stds += 0.1 * np.random.randn(*stds.shape)\n",
    "        stds[:,i] = np.linspace(-3,3,100)\n",
    "        witness_fun_std = calc_wit_fn(df_combined,laplacian_kernel,stds,\"S0_cdr_Miss_None_est_CATE\",\"S1_cdr_Miss_None_est_CATE\", weight_marg=True)[0]\n",
    "        stds_list.append(witness_fun_std)\n",
    "    witness_fun_std = np.stack(stds_list).std(axis=0)\n",
    "\n",
    "    plt.fill_between(np.linspace(-3,3,100),witness_fun-witness_fun_std, witness_fun+witness_fun_std, alpha = 0.4)\n",
    "\n",
    "    plt.legend(fontsize=12, loc=\"upper right\", bbox_to_anchor=(1.24,1))\n",
    "    plt.xlabel(\"X\", fontsize = 15)\n",
    "    plt.ylabel(\"Witness function\", fontsize = 15)\n",
    "    plt.title(\"Witness function in function of covariates\", fontsize = 20)"
   ]
  }
 ],
 "metadata": {
  "kernelspec": {
   "display_name": "censored_falsification",
   "language": "python",
   "name": "python3"
  },
  "language_info": {
   "codemirror_mode": {
    "name": "ipython",
    "version": 3
   },
   "file_extension": ".py",
   "mimetype": "text/x-python",
   "name": "python",
   "nbconvert_exporter": "python",
   "pygments_lexer": "ipython3",
   "version": "3.9.16"
  },
  "orig_nbformat": 4
 },
 "nbformat": 4,
 "nbformat_minor": 2
}
