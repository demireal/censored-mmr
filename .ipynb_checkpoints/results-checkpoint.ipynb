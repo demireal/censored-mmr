{
 "cells": [
  {
   "cell_type": "code",
   "execution_count": 1,
   "metadata": {},
   "outputs": [],
   "source": [
    "import os\n",
    "import pandas as pd\n",
    "import matplotlib.pyplot as plt\n",
    "import numpy as np\n",
    "import seaborn as sns\n",
    "import matplotlib\n",
    "\n",
    "matplotlib.rcParams['pdf.fonttype'] = 42  # no type-3\n",
    "matplotlib.rcParams['ps.fonttype'] = 42"
   ]
  },
  {
   "cell_type": "markdown",
   "metadata": {},
   "source": [
    "# Collecting the results of the experiments"
   ]
  },
  {
   "cell_type": "markdown",
   "metadata": {},
   "source": [
    "## Functions"
   ]
  },
  {
   "cell_type": "code",
   "execution_count": 2,
   "metadata": {},
   "outputs": [],
   "source": [
    "def recursive_results(path,dirlist,str_, res_):\n",
    "    \"\"\" \n",
    "    A recursive search for the results - it's like a sniffing dog really.\n",
    "    \"\"\"\n",
    "    if \"res_summary.csv\" in dirlist:\n",
    "        res = pd.read_csv(os.path.join(path,\"res_summary.csv\"))\n",
    "        return [res], str_\n",
    "    else:\n",
    "        r_tmp = res_.copy()\n",
    "        s_tmp = []\n",
    "        for d in dirlist:\n",
    "            path_ = os.path.join(path,d)\n",
    "            r_, s_ = recursive_results(path_, os.listdir(path_), [str_[0] + \"-*-\" + d],res_)\n",
    "            r_tmp = r_tmp + r_\n",
    "            s_tmp = s_tmp + s_\n",
    "        return r_tmp, s_tmp\n",
    "    \n",
    "def get_time_series(df,signal):\n",
    "    ts = []\n",
    "    for stage in ['Low','Mid-low','Mid-high','High']:\n",
    "        df_ = df[stage].copy()\n",
    "        ts.append(df_.loc[df_.Signal==signal][\"p-value\"].item())\n",
    "    return ts"
   ]
  },
  {
   "cell_type": "markdown",
   "metadata": {},
   "source": [
    "## Tables\n",
    "\n",
    "making automatic latex tables. Not pretty but efficient. American style."
   ]
  },
  {
   "cell_type": "code",
   "execution_count": 3,
   "metadata": {},
   "outputs": [],
   "source": [
    "dir_path = os.path.join(\"results\", \"ihdp\")\n",
    "setups = [\"samePOihdp_GC\",\"samePOihdp-highhc_GC\",\"samePOihdp-lowhc_GC\",\"diffPOihdp-highdiff_GC\",\"diffPOihdp-lowdiff_GC\"]\n",
    "\n",
    "setups_names_dict = {\"samePOihdp_GC\": \"Same PO, GC\",\n",
    "                     \"samePOihdp-highhc_GC\": \"Same PO, GC, high HC\",\n",
    "                     \"samePOihdp-lowhc_GC\": \"Same PO, GC, low HC\",\n",
    "                     \"diffPOihdp-highdiff_GC\": \"Diff PO, GC, high diff\",\n",
    "                     \"diffPOihdp-lowdiff_GC\": \"Diff PO, GC, low diff\"}"
   ]
  },
  {
   "cell_type": "markdown",
   "metadata": {},
   "source": [
    "### Collecting results and aggregating in a big fat ass DF"
   ]
  },
  {
   "cell_type": "code",
   "execution_count": 4,
   "metadata": {},
   "outputs": [],
   "source": [
    "M = \"3\""
   ]
  },
  {
   "cell_type": "code",
   "execution_count": 5,
   "metadata": {},
   "outputs": [
    {
     "name": "stderr",
     "output_type": "stream",
     "text": [
      "/tmp/ipykernel_3084683/126393597.py:11: FutureWarning: Series.__getitem__ treating keys as positions is deprecated. In a future version, integer keys will always be treated as labels (consistent with DataFrame behavior). To access a value by position, use `ser.iloc[pos]`\n",
      "  p_val = r_list[i].iloc[0][1].item()\n",
      "/tmp/ipykernel_3084683/126393597.py:11: FutureWarning: Series.__getitem__ treating keys as positions is deprecated. In a future version, integer keys will always be treated as labels (consistent with DataFrame behavior). To access a value by position, use `ser.iloc[pos]`\n",
      "  p_val = r_list[i].iloc[0][1].item()\n",
      "/tmp/ipykernel_3084683/126393597.py:11: FutureWarning: Series.__getitem__ treating keys as positions is deprecated. In a future version, integer keys will always be treated as labels (consistent with DataFrame behavior). To access a value by position, use `ser.iloc[pos]`\n",
      "  p_val = r_list[i].iloc[0][1].item()\n",
      "/tmp/ipykernel_3084683/126393597.py:11: FutureWarning: Series.__getitem__ treating keys as positions is deprecated. In a future version, integer keys will always be treated as labels (consistent with DataFrame behavior). To access a value by position, use `ser.iloc[pos]`\n",
      "  p_val = r_list[i].iloc[0][1].item()\n",
      "/tmp/ipykernel_3084683/126393597.py:11: FutureWarning: Series.__getitem__ treating keys as positions is deprecated. In a future version, integer keys will always be treated as labels (consistent with DataFrame behavior). To access a value by position, use `ser.iloc[pos]`\n",
      "  p_val = r_list[i].iloc[0][1].item()\n"
     ]
    }
   ],
   "source": [
    "df_list = []\n",
    "for setup in setups:\n",
    "    dir_ = os.path.join(dir_path, setup)\n",
    "    dirlist = os.listdir(dir_)\n",
    "    r_list, s_list = recursive_results(dir_,dirlist,[\"\"],[]) \n",
    "\n",
    "    assert len(r_list) == len(s_list)\n",
    "\n",
    "    df_list_ = []\n",
    "    for i in range(len(r_list)):\n",
    "        p_val = r_list[i].iloc[0][1].item()\n",
    "        config = s_list[i].split(\"-*-\")[1:]\n",
    "        config_dict = {\"Signal\":config[0].split(\"'\")[1].replace(\"_\",\"-\"), \"M\": config[1].split('[')[1].split(']')[0] ,\"CD\":config[2], \"UC\":config[3], \"p-value\":p_val}\n",
    "        df_list_.append(pd.DataFrame(config_dict, index = [i]))\n",
    "    df_ = pd.concat(df_list_)\n",
    "    df_.sort_values(by = [\"Signal\",\"M\",\"CD\",\"UC\"], inplace = True)\n",
    "    #df_[\"setup\"] = setup\n",
    "    df_list.append(df_.loc[df_.M==M])\n",
    "df = pd.concat(df_list, axis = 1, keys = [setups_names_dict[setup] for setup in setups])"
   ]
  },
  {
   "cell_type": "code",
   "execution_count": 6,
   "metadata": {},
   "outputs": [
    {
     "name": "stdout",
     "output_type": "stream",
     "text": [
      "\\begin{tabular}{llllrllllrllllrllllrllllr}\n",
      "\\toprule\n",
      "\\multicolumn{5}{r}{Same PO, GC} & \\multicolumn{5}{r}{Same PO, GC, high HC} & \\multicolumn{5}{r}{Same PO, GC, low HC} & \\multicolumn{5}{r}{Diff PO, GC, high diff} & \\multicolumn{5}{r}{Diff PO, GC, low diff} \\\\\n",
      "Signal & M & CD & UC & p-value & Signal & M & CD & UC & p-value & Signal & M & CD & UC & p-value & Signal & M & CD & UC & p-value & Signal & M & CD & UC & p-value \\\\\n",
      "\\midrule\n",
      "CDR & 3 & CD-10 & UC-0 & 0.725000 & CDR & 3 & CD-10 & UC-1 & 0.825000 & CDR & 3 & CD-10 & UC-1 & 0.700000 & CDR & 3 & CD-10 & UC-0 & 1.000000 & CDR & 3 & CD-10 & UC-0 & 0.300000 \\\\\n",
      "DR-Drop & 3 & CD-10 & UC-0 & 0.075000 & DR-Drop & 3 & CD-10 & UC-1 & 1.000000 & DR-Drop & 3 & CD-10 & UC-1 & 0.650000 & DR-Drop & 3 & CD-10 & UC-0 & 1.000000 & DR-Drop & 3 & CD-10 & UC-0 & 0.425000 \\\\\n",
      "DR-Impute & 3 & CD-10 & UC-0 & 0.050000 & DR-Impute & 3 & CD-10 & UC-1 & 1.000000 & DR-Impute & 3 & CD-10 & UC-1 & 0.550000 & DR-Impute & 3 & CD-10 & UC-0 & 1.000000 & DR-Impute & 3 & CD-10 & UC-0 & 0.425000 \\\\\n",
      "IPCW & 3 & CD-10 & UC-0 & 0.000000 & IPCW & 3 & CD-10 & UC-1 & 0.050000 & IPCW & 3 & CD-10 & UC-1 & 0.000000 & IPCW & 3 & CD-10 & UC-0 & 0.475000 & IPCW & 3 & CD-10 & UC-0 & 0.000000 \\\\\n",
      "IPCW-GC & 3 & CD-10 & UC-0 & 0.000000 & IPCW-GC & 3 & CD-10 & UC-1 & 1.000000 & IPCW-GC & 3 & CD-10 & UC-1 & 0.025000 & IPCW-GC & 3 & CD-10 & UC-0 & 0.975000 & IPCW-GC & 3 & CD-10 & UC-0 & 0.025000 \\\\\n",
      "IPW-Drop & 3 & CD-10 & UC-0 & 0.000000 & IPW-Drop & 3 & CD-10 & UC-1 & 1.000000 & IPW-Drop & 3 & CD-10 & UC-1 & 0.025000 & IPW-Drop & 3 & CD-10 & UC-0 & 1.000000 & IPW-Drop & 3 & CD-10 & UC-0 & 0.000000 \\\\\n",
      "IPW-Impute & 3 & CD-10 & UC-0 & 0.000000 & IPW-Impute & 3 & CD-10 & UC-1 & 1.000000 & IPW-Impute & 3 & CD-10 & UC-1 & 0.025000 & IPW-Impute & 3 & CD-10 & UC-0 & 1.000000 & IPW-Impute & 3 & CD-10 & UC-0 & 0.000000 \\\\\n",
      "\\bottomrule\n",
      "\\end{tabular}\n",
      "\n"
     ]
    }
   ],
   "source": [
    "print(df.to_latex(escape = False,index = False))"
   ]
  },
  {
   "cell_type": "markdown",
   "metadata": {},
   "source": [
    "## Figures"
   ]
  },
  {
   "cell_type": "code",
   "execution_count": 8,
   "metadata": {},
   "outputs": [
    {
     "name": "stderr",
     "output_type": "stream",
     "text": [
      "/tmp/ipykernel_3084683/2448592844.py:23: FutureWarning: Series.__getitem__ treating keys as positions is deprecated. In a future version, integer keys will always be treated as labels (consistent with DataFrame behavior). To access a value by position, use `ser.iloc[pos]`\n",
      "  p_val = r_list[i].iloc[0][1].item()\n",
      "/tmp/ipykernel_3084683/2448592844.py:23: FutureWarning: Series.__getitem__ treating keys as positions is deprecated. In a future version, integer keys will always be treated as labels (consistent with DataFrame behavior). To access a value by position, use `ser.iloc[pos]`\n",
      "  p_val = r_list[i].iloc[0][1].item()\n",
      "/tmp/ipykernel_3084683/2448592844.py:23: FutureWarning: Series.__getitem__ treating keys as positions is deprecated. In a future version, integer keys will always be treated as labels (consistent with DataFrame behavior). To access a value by position, use `ser.iloc[pos]`\n",
      "  p_val = r_list[i].iloc[0][1].item()\n",
      "/tmp/ipykernel_3084683/2448592844.py:23: FutureWarning: Series.__getitem__ treating keys as positions is deprecated. In a future version, integer keys will always be treated as labels (consistent with DataFrame behavior). To access a value by position, use `ser.iloc[pos]`\n",
      "  p_val = r_list[i].iloc[0][1].item()\n",
      "/tmp/ipykernel_3084683/2448592844.py:57: FutureWarning: Series.__getitem__ treating keys as positions is deprecated. In a future version, integer keys will always be treated as labels (consistent with DataFrame behavior). To access a value by position, use `ser.iloc[pos]`\n",
      "  p_val = r_list[i].iloc[0][1].item()\n",
      "/tmp/ipykernel_3084683/2448592844.py:57: FutureWarning: Series.__getitem__ treating keys as positions is deprecated. In a future version, integer keys will always be treated as labels (consistent with DataFrame behavior). To access a value by position, use `ser.iloc[pos]`\n",
      "  p_val = r_list[i].iloc[0][1].item()\n",
      "/tmp/ipykernel_3084683/2448592844.py:57: FutureWarning: Series.__getitem__ treating keys as positions is deprecated. In a future version, integer keys will always be treated as labels (consistent with DataFrame behavior). To access a value by position, use `ser.iloc[pos]`\n",
      "  p_val = r_list[i].iloc[0][1].item()\n",
      "/tmp/ipykernel_3084683/2448592844.py:57: FutureWarning: Series.__getitem__ treating keys as positions is deprecated. In a future version, integer keys will always be treated as labels (consistent with DataFrame behavior). To access a value by position, use `ser.iloc[pos]`\n",
      "  p_val = r_list[i].iloc[0][1].item()\n"
     ]
    }
   ],
   "source": [
    "ts = {}\n",
    "\n",
    "################\n",
    "\n",
    "ts['diff'] = {}\n",
    "\n",
    "dir_path = os.path.join(\"results\", \"ihdp\")\n",
    "setups = [\"diffPOihdp-lowdiff\",\"diffPOihdp-midlowdiff\",\"diffPOihdp-midhighdiff\",\"diffPOihdp-highdiff\"]\n",
    "#setups = [\"diffPOihdp-midlowdiff\",\"diffPOihdp-midhighdiff\"]\n",
    "\n",
    "setups_names_dict = {\"diffPOihdp-lowdiff\": \"Low\",\n",
    "                        \"diffPOihdp-midlowdiff\": \"Mid-low\",\n",
    "                        \"diffPOihdp-midhighdiff\": \"Mid-high\",\n",
    "                        \"diffPOihdp-highdiff\": \"High\"}\n",
    "\n",
    "df_list = []\n",
    "for setup in setups:\n",
    "    dir_ = os.path.join(dir_path, setup)\n",
    "    dirlist = os.listdir(dir_)\n",
    "    r_list, s_list = recursive_results(dir_,dirlist,[\"\"],[]) \n",
    "\n",
    "    assert len(r_list) == len(s_list)\n",
    "\n",
    "    df_list_ = []\n",
    "    for i in range(len(r_list)):\n",
    "        p_val = r_list[i].iloc[0][1].item()\n",
    "        config = s_list[i].split(\"-*-\")[1:]\n",
    "        config_dict = {\"Signal\":config[0].split(\"'\")[1].replace(\"_\",\"-\"), \"M\": config[1].split('[')[1].split(']')[0] ,\"CD\":config[2], \"UC\":config[3], \"p-value\":p_val}\n",
    "        df_list_.append(pd.DataFrame(config_dict, index = [i]))\n",
    "    df_ = pd.concat(df_list_)\n",
    "    df_.sort_values(by = [\"Signal\",\"M\",\"CD\",\"UC\"], inplace = True)\n",
    "    #df_[\"setup\"] = setup\n",
    "    df_list.append(df_.loc[df_.M==M])\n",
    "df = pd.concat(df_list, axis = 1, keys = [setups_names_dict[setup] for setup in setups])\n",
    "\n",
    "for i,signal in enumerate([\"IPCW\", \"CDR\", \"DR-Drop\",\"DR-Impute\",\"IPW-Drop\",\"IPW-Impute\"]):\n",
    "    ts['diff'][signal] = get_time_series(df,signal)\n",
    "                                         \n",
    "################\n",
    "        \n",
    "ts['conf'] = {}\n",
    "dir_path = os.path.join(\"results\", \"ihdp\")\n",
    "setups = [\"samePOihdp-lowhc\",\"samePOihdp-midlowhc\", \"samePOihdp-midhighhc\", \"samePOihdp-highhc\"]\n",
    "\n",
    "setups_names_dict = {\"samePOihdp-lowhc\": \"Low\",\n",
    "                        \"samePOihdp-midlowhc\": \"Mid-low\",\n",
    "                        \"samePOihdp-midhighhc\": \"Mid-high\",\n",
    "                        \"samePOihdp-highhc\": \"High\"}\n",
    "\n",
    "\n",
    "df_list = []\n",
    "for setup in setups:\n",
    "    dir_ = os.path.join(dir_path, setup)\n",
    "    dirlist = os.listdir(dir_)\n",
    "    r_list, s_list = recursive_results(dir_,dirlist,[\"\"],[]) \n",
    "\n",
    "    assert len(r_list) == len(s_list)\n",
    "\n",
    "    df_list_ = []\n",
    "    for i in range(len(r_list)):\n",
    "        p_val = r_list[i].iloc[0][1].item()\n",
    "        config = s_list[i].split(\"-*-\")[1:]\n",
    "        config_dict = {\"Signal\":config[0].split(\"'\")[1].replace(\"_\",\"-\"), \"M\": config[1].split('[')[1].split(']')[0] ,\"CD\":config[2], \"UC\":config[3], \"p-value\":p_val}\n",
    "        df_list_.append(pd.DataFrame(config_dict, index = [i]))\n",
    "    df_ = pd.concat(df_list_)\n",
    "    df_.sort_values(by = [\"Signal\",\"M\",\"CD\",\"UC\"], inplace = True)\n",
    "    #df_[\"setup\"] = setup\n",
    "    df_list.append(df_.loc[df_.M==M])\n",
    "df = pd.concat(df_list, axis = 1, keys = [setups_names_dict[setup] for setup in setups])\n",
    "                                         \n",
    "for i,signal in enumerate([\"IPCW\", \"CDR\", \"DR-Drop\",\"DR-Impute\",\"IPW-Drop\",\"IPW-Impute\"]):\n",
    "    ts['conf'][signal] = get_time_series(df,signal)\n",
    "    \n",
    "################\n",
    "\n",
    "ts['diffGC'] = {}\n",
    "\n",
    "dir_path = os.path.join(\"results\", \"ihdp\")\n",
    "setups = [\"diffPOihdp-lowdiff_GC\",\"diffPOihdp-midlowdiff_GC\",\"diffPOihdp-midhighdiff_GC\",\"diffPOihdp-highdiff_GC\"]\n",
    "#setups = [\"diffPOihdp-midlowdiff\",\"diffPOihdp-midhighdiff\"]\n",
    "\n",
    "setups_names_dict = {\"diffPOihdp-lowdiff_GC\": \"Low\",\n",
    "                        \"diffPOihdp-midlowdiff_GC\": \"Mid-low\",\n",
    "                        \"diffPOihdp-midhighdiff_GC\": \"Mid-high\",\n",
    "                        \"diffPOihdp-highdiff_GC\": \"High\"}\n",
    "\n",
    "df_list = []\n",
    "for setup in setups:\n",
    "    dir_ = os.path.join(dir_path, setup)\n",
    "    dirlist = os.listdir(dir_)\n",
    "    r_list, s_list = recursive_results(dir_,dirlist,[\"\"],[]) \n",
    "\n",
    "    assert len(r_list) == len(s_list)\n",
    "\n",
    "    df_list_ = []\n",
    "    for i in range(len(r_list)):\n",
    "        p_val = r_list[i].iloc[0][1].item()\n",
    "        config = s_list[i].split(\"-*-\")[1:]\n",
    "        config_dict = {\"Signal\":config[0].split(\"'\")[1].replace(\"_\",\"-\"), \"M\": config[1].split('[')[1].split(']')[0] ,\"CD\":config[2], \"UC\":config[3], \"p-value\":p_val}\n",
    "        df_list_.append(pd.DataFrame(config_dict, index = [i]))\n",
    "    df_ = pd.concat(df_list_)\n",
    "    df_.sort_values(by = [\"Signal\",\"M\",\"CD\",\"UC\"], inplace = True)\n",
    "    #df_[\"setup\"] = setup\n",
    "    df_list.append(df_.loc[df_.M==M])\n",
    "df = pd.concat(df_list, axis = 1, keys = [setups_names_dict[setup] for setup in setups])\n",
    "\n",
    "for i,signal in enumerate([\"IPCW\", \"CDR\", \"DR-Drop\",\"DR-Impute\",\"IPW-Drop\",\"IPW-Impute\"]):\n",
    "    ts['diffGC'][signal] = get_time_series(df,signal)\n",
    "                                         \n",
    "################\n",
    "        \n",
    "ts['confGC'] = {}\n",
    "dir_path = os.path.join(\"results\", \"ihdp\")\n",
    "setups = [\"samePOihdp-lowhc_GC\",\"samePOihdp-midlowhc_GC\", \"samePOihdp-midhighhc_GC\", \"samePOihdp-highhc_GC\"]\n",
    "\n",
    "setups_names_dict = {\"samePOihdp-lowhc_GC\": \"Low\",\n",
    "                        \"samePOihdp-midlowhc_GC\": \"Mid-low\",\n",
    "                        \"samePOihdp-midhighhc_GC\": \"Mid-high\",\n",
    "                        \"samePOihdp-highhc_GC\": \"High\"}\n",
    "\n",
    "\n",
    "df_list = []\n",
    "for setup in setups:\n",
    "    dir_ = os.path.join(dir_path, setup)\n",
    "    dirlist = os.listdir(dir_)\n",
    "    r_list, s_list = recursive_results(dir_,dirlist,[\"\"],[]) \n",
    "\n",
    "    assert len(r_list) == len(s_list)\n",
    "\n",
    "    df_list_ = []\n",
    "    for i in range(len(r_list)):\n",
    "        p_val = r_list[i].iloc[0][1].item()\n",
    "        config = s_list[i].split(\"-*-\")[1:]\n",
    "        config_dict = {\"Signal\":config[0].split(\"'\")[1].replace(\"_\",\"-\"), \"M\": config[1].split('[')[1].split(']')[0] ,\"CD\":config[2], \"UC\":config[3], \"p-value\":p_val}\n",
    "        df_list_.append(pd.DataFrame(config_dict, index = [i]))\n",
    "    df_ = pd.concat(df_list_)\n",
    "    df_.sort_values(by = [\"Signal\",\"M\",\"CD\",\"UC\"], inplace = True)\n",
    "    #df_[\"setup\"] = setup\n",
    "    df_list.append(df_.loc[df_.M==M])\n",
    "df = pd.concat(df_list, axis = 1, keys = [setups_names_dict[setup] for setup in setups])\n",
    "                                         \n",
    "for i,signal in enumerate([\"IPCW\", \"CDR\", \"DR-Drop\",\"DR-Impute\",\"IPW-Drop\",\"IPW-Impute\"]):\n",
    "    ts['confGC'][signal] = get_time_series(df,signal)"
   ]
  },
  {
   "cell_type": "code",
   "execution_count": 9,
   "metadata": {},
   "outputs": [
    {
     "data": {
      "image/png": "[encoded data removed]",
      "text/plain": [
       "<Figure size 900x300 with 2 Axes>"
      ]
     },
     "metadata": {},
     "output_type": "display_data"
    }
   ],
   "source": [
    "fig, (ax1, ax2) = plt.subplots(1, 2, sharey=True, figsize=(9, 3))\n",
    "palette = sns.color_palette(\"Paired\", 6)\n",
    "marker = ['d', 'd', 's', 's', '', '']\n",
    "\n",
    "xs_diff = [0.2,0.4,0.7,1.0]\n",
    "xs_conf = [1,1.5,2,2.5]\n",
    "\n",
    "for i,signal in enumerate([\"IPCW\", \"CDR\", \"DR-Drop\",\"DR-Impute\",\"IPW-Drop\",\"IPW-Impute\"]):    \n",
    "    ax2.plot(xs_conf, ts['conf'][signal],label = signal, linewidth = 2, marker=marker[i], color=palette[i])\n",
    "    ax1.plot(xs_diff, ts['diff'][signal],label = signal, linewidth = 2, marker=marker[i], color=palette[i])\n",
    "\n",
    "ax1.grid(color='gray', linestyle='--', linewidth=0.5)\n",
    "ax2.grid(color='gray', linestyle='--', linewidth=0.5)\n",
    "\n",
    "ax2.legend()\n",
    "ax1.set_ylabel(\"Power\", fontsize = 12)\n",
    "\n",
    "#ax2.set_xlabel(r\"$| \\beta_k |$ (Unmeasured confounding severity)\", fontsize = 12)\n",
    "#ax1.set_xlabel(r\"$\\Delta \\beta_k$ (External validation violation severity)\", fontsize = 12)\n",
    "plt.savefig('./results/figures/CIC-Sweep.pdf', bbox_inches='tight')\n",
    "plt.show()"
   ]
  },
  {
   "cell_type": "code",
   "execution_count": null,
   "metadata": {},
   "outputs": [],
   "source": [
    "fig, (ax1, ax2) = plt.subplots(1, 2, sharey=True, figsize=(9, 3))\n",
    "palette = sns.color_palette(\"Paired\", 6)\n",
    "marker = ['d', 'd', 's', 's', '', '']\n",
    "\n",
    "xs_diff = [0.2,0.4,0.7,1.0]\n",
    "xs_conf = [1,1.5,2,2.5]\n",
    "\n",
    "for i,signal in enumerate([\"IPCW\", \"CDR\", \"DR-Drop\",\"DR-Impute\",\"IPW-Drop\",\"IPW-Impute\"]):    \n",
    "    ax2.plot(xs_conf, ts['confGC'][signal],label = signal, linewidth = 2, marker=marker[i], color=palette[i])\n",
    "    ax1.plot(xs_diff, ts['diffGC'][signal],label = signal, linewidth = 2, marker=marker[i], color=palette[i])\n",
    "\n",
    "ax1.grid(color='gray', linestyle='--', linewidth=0.5)\n",
    "ax2.grid(color='gray', linestyle='--', linewidth=0.5)\n",
    "\n",
    "ax2.legend()\n",
    "ax1.set_ylabel(\"Power\", fontsize = 12)\n",
    "\n",
    "ax2.set_xlabel(r\"$| \\beta_k |$ (Unmeasured confounding severity)\", fontsize = 12)\n",
    "ax1.set_xlabel(r\"$\\Delta \\beta_k$ (External validation violation severity)\", fontsize = 12)\n",
    "plt.savefig('./results/figures/CIC-Sweep.pdf', bbox_inches='tight')\n",
    "plt.show()"
   ]
  },
  {
   "cell_type": "code",
   "execution_count": null,
   "metadata": {},
   "outputs": [],
   "source": [
    "xs = [0.2,0.4,0.7,1.0]\n",
    "palette = sns.color_palette(\"Paired\", 6)\n",
    "marker = ['d', 'd', 's', 's', '', '']\n",
    "\n",
    "plt.figure()\n",
    "for i,signal in enumerate([\"IPCW\", \"CDR\", \"DR-Drop\",\"DR-Impute\",\"IPW-Drop\",\"IPW-Impute\"]):\n",
    "    ys = ts['diff'][signal]\n",
    "    plt.plot(xs, ys,label = signal, linewidth = 2, marker=marker[i], color=palette[i])\n",
    "#plt.legend(fontsize = 15,loc = \"lower right\",bbox_to_anchor=(1.45, 0.0))\n",
    "#plt.legend(fontsize = 10)\n",
    "plt.ylabel(\"Power\", fontsize = 12)\n",
    "plt.xlabel(r\"$\\Delta \\beta_k$ (External validation violation severity)\", fontsize = 12)\n",
    "plt.show()"
   ]
  },
  {
   "cell_type": "code",
   "execution_count": null,
   "metadata": {},
   "outputs": [],
   "source": [
    "get_time_series(df,\"CDR\")"
   ]
  },
  {
   "cell_type": "code",
   "execution_count": null,
   "metadata": {},
   "outputs": [],
   "source": [
    "xs = [1,1.5,2,2.5]\n",
    "palette = sns.color_palette(\"Paired\", 6)\n",
    "marker = ['d', 'd', 's', 's', '', '']\n",
    "\n",
    "plt.figure()\n",
    "cnt = 1\n",
    "plt.figure()\n",
    "for i,signal in enumerate([\"IPCW\", \"CDR\", \"DR-Drop\",\"DR-Impute\",\"IPW-Drop\",\"IPW-Impute\"]):\n",
    "    ys = ts['conf'][signal]\n",
    "    plt.plot(xs, ys,label = signal, linewidth = 2, marker=marker[i], color=palette[i])\n",
    "#plt.legend(fontsize = 15,loc = \"lower right\",bbox_to_anchor=(1.45, 0.0))\n",
    "plt.legend(fontsize = 10)\n",
    "plt.ylabel(\"Power\", fontsize = 12)\n",
    "plt.xlabel(r\"$| \\beta_k |$ (Unmeasured confounding severity)\", fontsize = 12)\n",
    "plt.show()"
   ]
  },
  {
   "cell_type": "markdown",
   "metadata": {},
   "source": [
    "### Hidden confounders"
   ]
  },
  {
   "cell_type": "code",
   "execution_count": null,
   "metadata": {},
   "outputs": [],
   "source": [
    "dir_path = os.path.join(\"results\", \"ihdp\")\n",
    "setups = [\"samePOihdp-lowhc\",\"samePOihdp-midlowhc\", \"samePOihdp-midhighhc\", \"samePOihdp-highhc\"]\n",
    "\n",
    "setups_names_dict = {\"samePOihdp-lowhc\": \"Low\",\n",
    "                        \"samePOihdp-midlowhc\": \"Mid-low\",\n",
    "                        \"samePOihdp-midhighhc\": \"Mid-high\",\n",
    "                        \"samePOihdp-highhc\": \"High\"}\n",
    "\n",
    "\n",
    "df_list = []\n",
    "for setup in setups:\n",
    "    dir_ = os.path.join(dir_path, setup)\n",
    "    dirlist = os.listdir(dir_)\n",
    "    r_list, s_list = recursive_results(dir_,dirlist,[\"\"],[]) \n",
    "\n",
    "    assert len(r_list) == len(s_list)\n",
    "\n",
    "    df_list_ = []\n",
    "    for i in range(len(r_list)):\n",
    "        p_val = r_list[i].iloc[0][1].item()\n",
    "        config = s_list[i].split(\"-*-\")[1:]\n",
    "        config_dict = {\"Signal\":config[0].split(\"'\")[1].replace(\"_\",\"-\"), \"M\": config[1].split('[')[1].split(']')[0] ,\"CD\":config[2], \"UC\":config[3], \"p-value\":p_val}\n",
    "        df_list_.append(pd.DataFrame(config_dict, index = [i]))\n",
    "    df_ = pd.concat(df_list_)\n",
    "    df_.sort_values(by = [\"Signal\",\"M\",\"CD\",\"UC\"], inplace = True)\n",
    "    #df_[\"setup\"] = setup\n",
    "    df_list.append(df_.loc[df_.M==M])\n",
    "df = pd.concat(df_list, axis = 1, keys = [setups_names_dict[setup] for setup in setups])"
   ]
  },
  {
   "cell_type": "code",
   "execution_count": null,
   "metadata": {},
   "outputs": [],
   "source": []
  },
  {
   "cell_type": "code",
   "execution_count": null,
   "metadata": {},
   "outputs": [],
   "source": []
  }
 ],
 "metadata": {
  "kernelspec": {
   "display_name": "Python 3 (ipykernel)",
   "language": "python",
   "name": "python3"
  },
  "language_info": {
   "codemirror_mode": {
    "name": "ipython",
    "version": 3
   },
   "file_extension": ".py",
   "mimetype": "text/x-python",
   "name": "python",
   "nbconvert_exporter": "python",
   "pygments_lexer": "ipython3",
   "version": "3.10.12"
  }
 },
 "nbformat": 4,
 "nbformat_minor": 2
}
