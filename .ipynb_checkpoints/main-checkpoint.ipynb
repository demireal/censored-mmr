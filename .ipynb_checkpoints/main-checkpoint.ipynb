{
 "cells": [
  {
   "cell_type": "code",
   "execution_count": 1,
   "metadata": {},
   "outputs": [],
   "source": [
    "import warnings\n",
    "warnings.filterwarnings(\"ignore\")\n",
    "\n",
    "import numpy as np\n",
    "import pandas as pd\n",
    "import matplotlib.pyplot as plt\n",
    "import json\n",
    "import time\n",
    "from sklearn.metrics.pairwise import rbf_kernel, laplacian_kernel\n",
    "\n",
    "from scipy.integrate import quad\n",
    "from scipy.interpolate import interp1d\n",
    "\n",
    "from SyntheticDataModule import *\n",
    "from IHDPDataModule import *\n",
    "from estimators import *\n",
    "from utils import *\n",
    "from mmr_utils import *"
   ]
  },
  {
   "cell_type": "code",
   "execution_count": 2,
   "metadata": {},
   "outputs": [],
   "source": [
    "ihdp_df = pd.read_csv('data/ihdp/ihdp.csv')\n",
    "cols = [\"twin\", \"momhisp\", \"bw\", \"b.head\", \"preterm\",  \"birth.o\" ,\"nnhealth\", \"momage\", \"b.marr\", \"sex\"]\n",
    "CONT_COLS = [\"bw\", \"b.head\", \"preterm\",  \"birth.o\" ,\"nnhealth\", \"momage\"]\n",
    "\n",
    "scaler = MinMaxScaler()\n",
    "ihdp_df[CONT_COLS] = scaler.fit_transform(ihdp_df[CONT_COLS])\n",
    "\n",
    "# ihdp_df[cols].corr()\n",
    "\n",
    "# for col in cols:\n",
    "#     plt.figure()\n",
    "#     plt.hist(ihdp_df[col], bins=50, label=col)\n",
    "#     plt.legend()\n",
    "#     plt.show()"
   ]
  },
  {
   "cell_type": "code",
   "execution_count": null,
   "metadata": {
    "scrolled": false
   },
   "outputs": [],
   "source": [
    "mmr_keys = [\"IPCW\", \"IPW-Drop\"]\n",
    "CD = 10\n",
    "UC = 0\n",
    "jD = read_json('ihdp/samePOihdp.json', CD, UC, mmr_keys)\n",
    "#jD = read_json('conditional-IC/samePO.json', CD, UC, mmr_keys)\n",
    "\n",
    "m = 3\n",
    "os_size = int(jD['rct_size'] * m)\n",
    "\n",
    "t1 = time()\n",
    "\n",
    "df_combined, df_comb_drop, RCTData, OSData = generate_data(CD, os_size, jD)\n",
    "Fb_Y, Gb_C = est_nuisance(df_combined, df_comb_drop, jD)\n",
    "\n",
    "print('RCT size: {}, OS size: {}, time elapsed: {:.2f}'.format(jD['rct_size'], os_size, time() - t1))\n",
    "\n",
    "summary_df = pd.concat([RCTData.summary(plot=True), OSData.summary(plot=True)], axis=0, ignore_index=True)\n",
    "summary_df\n",
    "\n",
    "crop_prop = True\n",
    "\n",
    "mmr_stats = np.zeros((len(mmr_keys), 2))  # store results and p-val for each mmr test\n",
    "\n",
    "for kind, key in enumerate(mmr_keys):\n",
    "    if 'Drop' in key:\n",
    "        df_mmr = df_comb_drop.copy()\n",
    "    else:\n",
    "        df_mmr = df_combined.copy()\n",
    "\n",
    "    if jD['crop_prop'] and ('Drop' not in key):\n",
    "        df_mmr = df_mmr[(0.05 < df_mmr['P(S=1|X)']) & (df_mmr['P(S=1|X)'] < 0.95) &\\\n",
    "                (0.05 < df_mmr['P(A=1|X,S)']) & (df_mmr['P(A=1|X,S)'] < 0.95) &\\\n",
    "                (1e-4 < df_mmr['Gb(T|X,S,A)'])].copy().reset_index(drop=True)\n",
    "\n",
    "    if jD['crop_prop'] and ('Drop' in key):\n",
    "        df_mmr = df_mmr[(0.05 < df_mmr['P(S=1|X)']) & (df_mmr['P(S=1|X)'] < 0.95) &\\\n",
    "                (0.05 < df_mmr['P(A=1|X,S)']) & (df_mmr['P(A=1|X,S)'] < 0.95)].copy().reset_index(drop=True)\n",
    "\n",
    "    signal0, signal1 = jD['test_signals'][key][0], jD['test_signals'][key][1]\n",
    "    mmr_stats[kind, 0], mmr_stats[kind, 1] = mmr_test(df_mmr, jD['cov_list'], jD['B'], laplacian_kernel, signal0, signal1)"
   ]
  },
  {
   "cell_type": "code",
   "execution_count": null,
   "metadata": {},
   "outputs": [],
   "source": [
    "mmr_stats"
   ]
  },
  {
   "cell_type": "code",
   "execution_count": 128,
   "metadata": {},
   "outputs": [
    {
     "data": {
      "text/plain": [
       "(array([  1.,   0.,   3.,  52., 295., 378., 215.,  37.,   2.,   2.]),\n",
       " array([0.14923234, 0.21768406, 0.28613577, 0.35458749, 0.4230392 ,\n",
       "        0.49149091, 0.55994263, 0.62839434, 0.69684605, 0.76529777,\n",
       "        0.83374948]),\n",
       " <BarContainer object of 10 artists>)"
      ]
     },
     "execution_count": 128,
     "metadata": {},
     "output_type": "execute_result"
    },
    {
     "data": {
      "image/png": "[encoded data removed]",
      "text/plain": [
       "<Figure size 640x480 with 1 Axes>"
      ]
     },
     "metadata": {},
     "output_type": "display_data"
    }
   ],
   "source": [
    "plt.hist(df_combined.query(\"S==0\")['P(A=1|X,S)'])"
   ]
  },
  {
   "cell_type": "code",
   "execution_count": null,
   "metadata": {},
   "outputs": [],
   "source": []
  },
  {
   "cell_type": "code",
   "execution_count": null,
   "metadata": {},
   "outputs": [],
   "source": []
  },
  {
   "cell_type": "code",
   "execution_count": 7,
   "metadata": {},
   "outputs": [
    {
     "data": {
      "text/plain": [
       "['X0', 'X1', 'X2', 'X3', 'X4', 'X5', 'X6', 'X7', 'X8', 'X9', 'X10']"
      ]
     },
     "execution_count": 7,
     "metadata": {},
     "output_type": "execute_result"
    }
   ],
   "source": [
    "jD['cov_list']"
   ]
  },
  {
   "cell_type": "code",
   "execution_count": 8,
   "metadata": {},
   "outputs": [
    {
     "data": {
      "text/html": [
       "<div>\n",
       "<style scoped>\n",
       "    .dataframe tbody tr th:only-of-type {\n",
       "        vertical-align: middle;\n",
       "    }\n",
       "\n",
       "    .dataframe tbody tr th {\n",
       "        vertical-align: top;\n",
       "    }\n",
       "\n",
       "    .dataframe thead th {\n",
       "        text-align: right;\n",
       "    }\n",
       "</style>\n",
       "<table border=\"1\" class=\"dataframe\">\n",
       "  <thead>\n",
       "    <tr style=\"text-align: right;\">\n",
       "      <th></th>\n",
       "      <th>S</th>\n",
       "      <th>d</th>\n",
       "      <th>n</th>\n",
       "      <th>True mean Y0</th>\n",
       "      <th>Impute mean Y0</th>\n",
       "      <th>Drop mean Y0</th>\n",
       "      <th>Oracle-IPCW mean Y0</th>\n",
       "      <th>True mean Y1</th>\n",
       "      <th>Impute mean Y1</th>\n",
       "      <th>Drop mean Y1</th>\n",
       "      <th>Oracle-IPCW mean Y1</th>\n",
       "      <th>True ATE</th>\n",
       "      <th>Impute ATE</th>\n",
       "      <th>Drop ATE</th>\n",
       "      <th>Oracle-IPCW ATE</th>\n",
       "    </tr>\n",
       "  </thead>\n",
       "  <tbody>\n",
       "    <tr>\n",
       "      <th>0</th>\n",
       "      <td>0</td>\n",
       "      <td>10</td>\n",
       "      <td>985</td>\n",
       "      <td>3.267937</td>\n",
       "      <td>3.258653</td>\n",
       "      <td>3.258653</td>\n",
       "      <td>3.050523</td>\n",
       "      <td>4.695079</td>\n",
       "      <td>4.708000</td>\n",
       "      <td>4.708000</td>\n",
       "      <td>5.008571</td>\n",
       "      <td>1.427142</td>\n",
       "      <td>1.449347</td>\n",
       "      <td>1.449347</td>\n",
       "      <td>1.958049</td>\n",
       "    </tr>\n",
       "    <tr>\n",
       "      <th>1</th>\n",
       "      <td>1</td>\n",
       "      <td>10</td>\n",
       "      <td>2955</td>\n",
       "      <td>3.363402</td>\n",
       "      <td>4.614386</td>\n",
       "      <td>4.614386</td>\n",
       "      <td>3.411659</td>\n",
       "      <td>4.638462</td>\n",
       "      <td>4.270074</td>\n",
       "      <td>4.254924</td>\n",
       "      <td>4.790361</td>\n",
       "      <td>1.275060</td>\n",
       "      <td>-0.344311</td>\n",
       "      <td>-0.359462</td>\n",
       "      <td>1.378702</td>\n",
       "    </tr>\n",
       "  </tbody>\n",
       "</table>\n",
       "</div>"
      ],
      "text/plain": [
       "   S   d     n  True mean Y0  Impute mean Y0  Drop mean Y0  \\\n",
       "0  0  10   985      3.267937        3.258653      3.258653   \n",
       "1  1  10  2955      3.363402        4.614386      4.614386   \n",
       "\n",
       "   Oracle-IPCW mean Y0  True mean Y1  Impute mean Y1  Drop mean Y1  \\\n",
       "0             3.050523      4.695079        4.708000      4.708000   \n",
       "1             3.411659      4.638462        4.270074      4.254924   \n",
       "\n",
       "   Oracle-IPCW mean Y1  True ATE  Impute ATE  Drop ATE  Oracle-IPCW ATE  \n",
       "0             5.008571  1.427142    1.449347  1.449347         1.958049  \n",
       "1             4.790361  1.275060   -0.344311 -0.359462         1.378702  "
      ]
     },
     "execution_count": 8,
     "metadata": {},
     "output_type": "execute_result"
    }
   ],
   "source": [
    "summary_df"
   ]
  },
  {
   "cell_type": "code",
   "execution_count": 9,
   "metadata": {},
   "outputs": [
    {
     "data": {
      "text/plain": [
       "4.608237611681167"
      ]
     },
     "execution_count": 9,
     "metadata": {},
     "output_type": "execute_result"
    }
   ],
   "source": [
    "df_combined['S1_ipcw_est_Y1'].mean()"
   ]
  },
  {
   "cell_type": "code",
   "execution_count": 10,
   "metadata": {},
   "outputs": [
    {
     "data": {
      "text/plain": [
       "4.06763413269094"
      ]
     },
     "execution_count": 10,
     "metadata": {},
     "output_type": "execute_result"
    }
   ],
   "source": [
    "df_comb_drop['S1_drop_ipw_est_Y1'].mean()"
   ]
  },
  {
   "cell_type": "code",
   "execution_count": null,
   "metadata": {},
   "outputs": [],
   "source": [
    "len(df_mmr)"
   ]
  },
  {
   "cell_type": "code",
   "execution_count": null,
   "metadata": {},
   "outputs": [],
   "source": [
    "df_combined['Gb(T|X,S,A)'].sort_values()"
   ]
  },
  {
   "cell_type": "code",
   "execution_count": null,
   "metadata": {},
   "outputs": [],
   "source": [
    "df_combined['P(A=1|X,S)'].sort_values()"
   ]
  },
  {
   "cell_type": "code",
   "execution_count": null,
   "metadata": {},
   "outputs": [],
   "source": [
    "summary_df"
   ]
  },
  {
   "cell_type": "code",
   "execution_count": null,
   "metadata": {},
   "outputs": [],
   "source": [
    "mu_est_baseline(df_combined.query(, target, feature, model_name='XGboost')"
   ]
  },
  {
   "cell_type": "code",
   "execution_count": null,
   "metadata": {},
   "outputs": [],
   "source": [
    "df_combined"
   ]
  },
  {
   "cell_type": "code",
   "execution_count": null,
   "metadata": {},
   "outputs": [],
   "source": [
    "df_combined[df_combined[]]"
   ]
  },
  {
   "cell_type": "code",
   "execution_count": null,
   "metadata": {},
   "outputs": [],
   "source": [
    "np.sum((df_combined.S == 0) & (df_combined.A == 0))"
   ]
  },
  {
   "cell_type": "code",
   "execution_count": null,
   "metadata": {},
   "outputs": [],
   "source": [
    "a=['1', '2', '3', '4']"
   ]
  },
  {
   "cell_type": "code",
   "execution_count": null,
   "metadata": {},
   "outputs": [],
   "source": [
    "any(item in ['1', 'b'] for item in a)"
   ]
  },
  {
   "cell_type": "code",
   "execution_count": null,
   "metadata": {},
   "outputs": [],
   "source": [
    "!pip install XGboost"
   ]
  },
  {
   "cell_type": "code",
   "execution_count": null,
   "metadata": {},
   "outputs": [],
   "source": [
    "mmr_stats"
   ]
  },
  {
   "cell_type": "code",
   "execution_count": 11,
   "metadata": {},
   "outputs": [
    {
     "data": {
      "image/png": "[encoded data removed]",
      "text/plain": [
       "<Figure size 640x480 with 1 Axes>"
      ]
     },
     "metadata": {},
     "output_type": "display_data"
    }
   ],
   "source": [
    "mis_spec = 'Fb'\n",
    "cov_vals = np.zeros(CD+1)\n",
    "\n",
    "s, a = 0,1\n",
    "x = np.zeros(CD + 1)\n",
    "key\n",
    "ty, sty = Fb_Y[f't_S{s}_A{a}'], Fb_Y[f'St_S{s}_A{a}_true']\n",
    "tc, stc = Gb_C[f't_S{s}_A{a}'], Gb_C[f'St_S{s}_A{a}']\n",
    "\n",
    "t_arr = ty #\n",
    "st_arr = sty  \n",
    "\n",
    "func = interp1d(t_arr, st_arr, kind='linear', fill_value='extrapolate')\n",
    "\n",
    "xnew = np.arange(0, t_arr.max(), 0.1)\n",
    "ynew = func(xnew)   # use interpolation function returned by `interp1d`\n",
    "tbs_Y = RCTData.get_oracle_surv_curve(t_arr, cov_vals, f'Y{a}')\n",
    "\n",
    "plt.figure()\n",
    "plt.plot(t_arr, tbs_Y, label=f'true Y{a}', ls ='-.', alpha= 0.4)\n",
    "plt.plot(t_arr, st_arr, label='est', ls='-', alpha= 0.4)\n",
    "plt.plot(xnew, ynew, label='func approx', ls='--', alpha= 0.4)\n",
    "plt.legend()\n",
    "plt.show()\n",
    "\n",
    "# Trange = tc.copy()\n",
    "\n",
    "# t1 = time()\n",
    "# q_arr = eval_Qfunc_arr_(s, a, x, Trange, Fb_Y, mis_spec)\n",
    "# print(f\"Time: {time() - t1}\")\n",
    "# plt.figure()\n",
    "# plt.plot(Trange, q_arr)\n",
    "# plt.show()"
   ]
  },
  {
   "cell_type": "code",
   "execution_count": null,
   "metadata": {},
   "outputs": [],
   "source": [
    "t_arr"
   ]
  },
  {
   "cell_type": "code",
   "execution_count": 32,
   "metadata": {
    "scrolled": false
   },
   "outputs": [
    {
     "data": {
      "image/png": "[encoded data removed]",
      "text/plain": [
       "<Figure size 640x480 with 1 Axes>"
      ]
     },
     "metadata": {},
     "output_type": "display_data"
    }
   ],
   "source": [
    "mis_spec = 'None'\n",
    "cov_vals = np.array([0,0, 1, 0, 1, 1, 0, 1, 1, 1 ,1])\n",
    "cov_vals = np.zeros(11)\n",
    "\n",
    "\n",
    "s, a = 1,1\n",
    "x = np.zeros(CD + 1)\n",
    "key\n",
    "ty, sty = Fb_Y[f't_S{s}_A{a}'], Fb_Y[f'St_S{s}_A{a}']\n",
    "tc, stc = Gb_C[f't_S{s}_A{a}'], Gb_C[f'St_S{s}_A{a}']\n",
    "\n",
    "t_arr = tc #\n",
    "st_arr = stc  \n",
    "\n",
    "func = interp1d(t_arr, st_arr, kind='nearest', fill_value='extrapolate')\n",
    "\n",
    "ynew = func(t_arr)   # use interpolation function returned by `interp1d`\n",
    "tbs_C = OSData.get_oracle_surv_curve(t_arr, cov_vals, f'C{a}')\n",
    "\n",
    "plt.figure()\n",
    "plt.plot(t_arr, tbs_C, label=f'true C{a}', ls ='-.', alpha= 0.4)\n",
    "plt.plot(t_arr, st_arr, label='est', ls='-', alpha= 0.4)\n",
    "plt.plot(t_arr, ynew, label='func approx', ls='--', alpha= 0.4)\n",
    "plt.legend()\n",
    "plt.show()\n",
    "\n",
    "# Trange = tc.copy()\n",
    "\n",
    "# t1 = time()\n",
    "# q_arr = eval_Qfunc_arr_(s, a, x, Trange, Fb_Y, mis_spec)\n",
    "# print(f\"Time: {time() - t1}\")\n",
    "# plt.figure()\n",
    "# plt.plot(Trange, q_arr)\n",
    "# plt.show()"
   ]
  },
  {
   "cell_type": "code",
   "execution_count": 53,
   "metadata": {},
   "outputs": [
    {
     "data": {
      "text/plain": [
       "array([ 0.        ,  0.31709235,  0.4616977 ,  0.08818276,  0.12861077,\n",
       "       -0.00085402, -0.1705082 , -0.35977146, -0.20983726,  0.42593753])"
      ]
     },
     "execution_count": 53,
     "metadata": {},
     "output_type": "execute_result"
    }
   ],
   "source": [
    "Gb_C[f'beta_S{s}_A{a}']"
   ]
  },
  {
   "cell_type": "code",
   "execution_count": 51,
   "metadata": {},
   "outputs": [
    {
     "data": {
      "text/plain": [
       "[0, 0.3, -0.2, 0, 0.3, 0.2, -0.2, -0.2, 0, 0.2, -2.5]"
      ]
     },
     "execution_count": 51,
     "metadata": {},
     "output_type": "execute_result"
    }
   ],
   "source": [
    "jD['OS']['tte_params']['cox_args']['C1']['beta']"
   ]
  },
  {
   "cell_type": "code",
   "execution_count": 54,
   "metadata": {},
   "outputs": [
    {
     "ename": "ValueError",
     "evalue": "operands could not be broadcast together with shapes (11,) (10,) ",
     "output_type": "error",
     "traceback": [
      "\u001b[0;31m---------------------------------------------------------------------------\u001b[0m",
      "\u001b[0;31mValueError\u001b[0m                                Traceback (most recent call last)",
      "Cell \u001b[0;32mIn[54], line 1\u001b[0m\n\u001b[0;32m----> 1\u001b[0m \u001b[43mjD\u001b[49m\u001b[43m[\u001b[49m\u001b[38;5;124;43m'\u001b[39;49m\u001b[38;5;124;43mOS\u001b[39;49m\u001b[38;5;124;43m'\u001b[39;49m\u001b[43m]\u001b[49m\u001b[43m[\u001b[49m\u001b[38;5;124;43m'\u001b[39;49m\u001b[38;5;124;43mtte_params\u001b[39;49m\u001b[38;5;124;43m'\u001b[39;49m\u001b[43m]\u001b[49m\u001b[43m[\u001b[49m\u001b[38;5;124;43m'\u001b[39;49m\u001b[38;5;124;43mcox_args\u001b[39;49m\u001b[38;5;124;43m'\u001b[39;49m\u001b[43m]\u001b[49m\u001b[43m[\u001b[49m\u001b[38;5;124;43m'\u001b[39;49m\u001b[38;5;124;43mC1\u001b[39;49m\u001b[38;5;124;43m'\u001b[39;49m\u001b[43m]\u001b[49m\u001b[43m[\u001b[49m\u001b[38;5;124;43m'\u001b[39;49m\u001b[38;5;124;43mbeta\u001b[39;49m\u001b[38;5;124;43m'\u001b[39;49m\u001b[43m]\u001b[49m\u001b[43m \u001b[49m\u001b[38;5;241;43m-\u001b[39;49m\u001b[43m \u001b[49m\u001b[43mGb_C\u001b[49m\u001b[43m[\u001b[49m\u001b[38;5;124;43mf\u001b[39;49m\u001b[38;5;124;43m'\u001b[39;49m\u001b[38;5;124;43mbeta_S\u001b[39;49m\u001b[38;5;132;43;01m{\u001b[39;49;00m\u001b[43ms\u001b[49m\u001b[38;5;132;43;01m}\u001b[39;49;00m\u001b[38;5;124;43m_A\u001b[39;49m\u001b[38;5;132;43;01m{\u001b[39;49;00m\u001b[43ma\u001b[49m\u001b[38;5;132;43;01m}\u001b[39;49;00m\u001b[38;5;124;43m'\u001b[39;49m\u001b[43m]\u001b[49m\n",
      "\u001b[0;31mValueError\u001b[0m: operands could not be broadcast together with shapes (11,) (10,) "
     ]
    }
   ],
   "source": [
    "jD['OS']['tte_params']['cox_args']['C1']['beta'] - Gb_C[f'beta_S{s}_A{a}']"
   ]
  },
  {
   "cell_type": "code",
   "execution_count": null,
   "metadata": {
    "scrolled": false
   },
   "outputs": [],
   "source": [
    "for col in cols:\n",
    "    plt.figure()\n",
    "    plt.hist(ihdp_df[col], bins=50, label=col)\n",
    "    plt.legend()\n",
    "    plt.show()"
   ]
  },
  {
   "cell_type": "code",
   "execution_count": null,
   "metadata": {},
   "outputs": [],
   "source": []
  },
  {
   "cell_type": "code",
   "execution_count": null,
   "metadata": {},
   "outputs": [],
   "source": []
  },
  {
   "cell_type": "code",
   "execution_count": null,
   "metadata": {},
   "outputs": [],
   "source": []
  },
  {
   "cell_type": "code",
   "execution_count": null,
   "metadata": {},
   "outputs": [],
   "source": []
  },
  {
   "cell_type": "code",
   "execution_count": null,
   "metadata": {},
   "outputs": [],
   "source": [
    "S=0"
   ]
  },
  {
   "cell_type": "code",
   "execution_count": null,
   "metadata": {},
   "outputs": [],
   "source": [
    "study = 'RCT' if S == 0 else 'OS'"
   ]
  },
  {
   "cell_type": "code",
   "execution_count": null,
   "metadata": {},
   "outputs": [],
   "source": [
    "study"
   ]
  },
  {
   "cell_type": "code",
   "execution_count": null,
   "metadata": {},
   "outputs": [],
   "source": []
  },
  {
   "cell_type": "code",
   "execution_count": null,
   "metadata": {},
   "outputs": [],
   "source": []
  },
  {
   "cell_type": "code",
   "execution_count": null,
   "metadata": {},
   "outputs": [],
   "source": [
    "np.array([1,1]) @ 0"
   ]
  },
  {
   "cell_type": "code",
   "execution_count": null,
   "metadata": {},
   "outputs": [],
   "source": [
    "row = 2088\n",
    "\n",
    "s = df_combined.loc[row, 'S']\n",
    "a = df_combined.loc[row, 'A']\n",
    "x = np.array(df_combined.loc[row, jD['cov_list']])\n",
    "T = df_combined.loc[row, 'T']\n",
    "Delta = df_combined.loc[row, 'Delta']\n",
    "\n",
    "df_combined.loc[row]"
   ]
  },
  {
   "cell_type": "code",
   "execution_count": null,
   "metadata": {},
   "outputs": [],
   "source": [
    "row = 922\n",
    "\n",
    "s = df_mmr.loc[row, 'S']\n",
    "a = df_mmr.loc[row, 'A']\n",
    "x = np.array(df_combined.loc[row, jD['cov_list']])\n",
    "T = df_mmr.loc[row, 'T']\n",
    "Delta = df_mmr.loc[row, 'Delta']\n",
    "\n",
    "df_mmr.loc[row]"
   ]
  },
  {
   "cell_type": "code",
   "execution_count": null,
   "metadata": {},
   "outputs": [],
   "source": [
    "mis_spec = 'None'"
   ]
  },
  {
   "cell_type": "code",
   "execution_count": null,
   "metadata": {},
   "outputs": [],
   "source": [
    "eval_surv_(Gb_C[f't_S{s}_A{a}'], Gb_C[f'St_S{s}_A{a}'], T)"
   ]
  },
  {
   "cell_type": "code",
   "execution_count": null,
   "metadata": {},
   "outputs": [],
   "source": [
    "eval_int_term_(s, a, x, T, Gb_C, Fb_Y, mis_spec)"
   ]
  },
  {
   "cell_type": "code",
   "execution_count": null,
   "metadata": {},
   "outputs": [],
   "source": [
    "eval_Ystar_(s, a, x, Delta, T, Gb_C, Fb_Y, mis_spec)"
   ]
  },
  {
   "cell_type": "code",
   "execution_count": null,
   "metadata": {},
   "outputs": [],
   "source": [
    "eval_Qfunc_(s, a, x, T, Fb_Y, mis_spec)"
   ]
  },
  {
   "cell_type": "code",
   "execution_count": null,
   "metadata": {},
   "outputs": [],
   "source": [
    "eval_mu_(s, 1, x, Fb_Y, mis_spec)"
   ]
  },
  {
   "cell_type": "code",
   "execution_count": null,
   "metadata": {},
   "outputs": [],
   "source": [
    "s, a = 0, 0\n",
    "ty, sty = Fb_Y[f't_S{s}_A{a}'], Fb_Y[f'St_S{s}_A{a}']\n",
    "tc, stc = Gb_C[f't_S{s}_A{a}'], Gb_C[f'St_S{s}_A{a}']\n",
    "\n",
    "t_arr = tc #\n",
    "st_arr = stc  \n",
    "\n",
    "t1 = time()\n",
    "func = interp1d(t_arr, st_arr, kind='nearest', fill_value='extrapolate')\n",
    "result, error = quad(func, 0, t_arr.max() + 10, limit=5)\n",
    "\n",
    "print(f\"Time: {time()-t1:.2f} s.\")\n",
    "print(f\"Result of integration: {result}, error: {error}\")\n",
    "\n",
    "xnew = np.arange(0, t_arr.max(), 0.1)\n",
    "ynew = func(xnew)   # use interpolation function returned by `interp1d`\n",
    "plt.plot(t_arr, st_arr, 'o', xnew, ynew, '--')\n",
    "plt.show()"
   ]
  },
  {
   "cell_type": "code",
   "execution_count": null,
   "metadata": {},
   "outputs": [],
   "source": [
    "pv = np.load('results/ihdp/samePOihdp/CD-10/UC-1/pvals.npy')\n",
    "#csv = pd.read_csv('results/complete-IC/samePO/CD-10/UC-0/res_summary.csv')\n",
    "\n",
    "np.mean(pv[2], axis=1)"
   ]
  },
  {
   "cell_type": "code",
   "execution_count": null,
   "metadata": {},
   "outputs": [],
   "source": [
    "pv"
   ]
  },
  {
   "cell_type": "code",
   "execution_count": null,
   "metadata": {},
   "outputs": [],
   "source": [
    "for s in range(2):\n",
    "    for a in range(2):\n",
    "        print('-----\\n-----')\n",
    "        #df = df_combined.query(f\"S == {s} & A == {a}\").copy()  # all data\n",
    "        df = df_mmr.query(f\"S == {s} & A == {a}\").copy()       # goes into MMR (after cropping etc.)\n",
    "\n",
    "        Ystar_No_miss = f'S{s}_Ystar{a}_Miss_None_est_CATE'\n",
    "        Ystar_Fb_miss = f'S{s}_Ystar{a}_Miss_Fb_est_CATE'\n",
    "        Ystar_Gb_miss = f'S{s}_Ystar{a}_Miss_Gb_est_CATE'\n",
    "        \n",
    "        mu_No_miss = f'S{s}_muxsa{a}_Miss_None_est_CATE'\n",
    "        mu_Fb_miss = f'S{s}_muxsa{a}_Miss_Fb_est_CATE'\n",
    "        mu_Gb_miss = f'S{s}_muxsa{a}_Miss_Gb_est_CATE'\n",
    "\n",
    "        print(\"E[Y|S={}, A={}]: {:.2f}\".format(s ,a, df[f'Y{a}'].mean()))\n",
    "        print(\"E[Ystar_No_miss|S={}, A={}]: {:.2f}\".format(s, a, df[Ystar_No_miss].mean()))\n",
    "        print(\"E[Ystar_Fb_miss|S={}, A={}]: {:.2f}\".format(s, a, df[Ystar_Fb_miss].mean()))\n",
    "        print(\"E[Ystar_Gb_miss|S={}, A={}]: {:.2f}\".format(s, a, df[Ystar_Gb_miss].mean()))\n",
    "        print(\"E[mu_No_miss|S={}, A={}]: {:.2f}\".format(s, a, df[mu_No_miss].mean()))\n",
    "        print(\"E[mu_Fb_miss|S={}, A={}]: {:.2f}\".format(s, a, df[mu_Fb_miss].mean()))\n",
    "        print(\"E[mu_Gb_miss|S={}, A={}]: {:.2f}\".format(s, a, df[mu_Gb_miss].mean()))"
   ]
  },
  {
   "cell_type": "code",
   "execution_count": null,
   "metadata": {
    "scrolled": false
   },
   "outputs": [],
   "source": [
    "x_space = np.linspace(-10,10,401)\n",
    "cov_name = 'X1'\n",
    "os_oracle_prop = OSData.calc_oracle_prop(x_space, cov_name)\n",
    "plt.figure()\n",
    "plt.plot(x_space, os_oracle_prop)\n",
    "plt.xlabel(cov_name)\n",
    "plt.ylabel(f'P(A=1|{cov_name},S=1)')\n",
    "plt.title(f'Oracle propensity score in study S=1 wrt covariate {cov_name}')\n",
    "plt.show()\n",
    "\n",
    "t = np.linspace(0,20,101)\n",
    "cov_vals = [0, 0, 0, 0]\n",
    "tbs_Y0 = RCTData.get_oracle_surv_curve(t, cov_vals, 'Y0')\n",
    "tbs_Y1 = RCTData.get_oracle_surv_curve(t, cov_vals, 'Y1')\n",
    "tbs_C0 = RCTData.get_oracle_surv_curve(t, cov_vals, 'C0')\n",
    "tbs_C1 = RCTData.get_oracle_surv_curve(t, cov_vals, 'C1')\n",
    "plt.figure()\n",
    "plt.plot(t, tbs_Y0, label='Y0', alpha= 0.4, ls ='--')\n",
    "plt.plot(t, tbs_Y1, label='Y1', alpha= 1, ls ='-.')\n",
    "plt.plot(t, tbs_C0, label='C0', alpha= 0.4)\n",
    "plt.plot(t, tbs_C1, label='C1', alpha= 0.4)\n",
    "plt.xlabel('t')\n",
    "plt.ylabel(r'$S(t)$')\n",
    "plt.title(f'True survival curves in study S=0 with X={cov_vals}')\n",
    "plt.legend()\n",
    "plt.show()"
   ]
  }
 ],
 "metadata": {
  "kernelspec": {
   "display_name": "Python 3 (ipykernel)",
   "language": "python",
   "name": "python3"
  },
  "language_info": {
   "codemirror_mode": {
    "name": "ipython",
    "version": 3
   },
   "file_extension": ".py",
   "mimetype": "text/x-python",
   "name": "python",
   "nbconvert_exporter": "python",
   "pygments_lexer": "ipython3",
   "version": "3.10.12"
  }
 },
 "nbformat": 4,
 "nbformat_minor": 2
}
