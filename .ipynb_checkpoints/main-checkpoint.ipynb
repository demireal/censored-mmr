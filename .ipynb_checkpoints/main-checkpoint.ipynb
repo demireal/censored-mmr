{
 "cells": [
  {
   "cell_type": "code",
   "execution_count": null,
   "metadata": {},
   "outputs": [],
   "source": [
    "import warnings\n",
    "warnings.filterwarnings(\"ignore\")\n",
    "\n",
    "import numpy as np\n",
    "import pandas as pd\n",
    "import matplotlib.pyplot as plt\n",
    "import json\n",
    "import time\n",
    "from sklearn.metrics.pairwise import rbf_kernel, laplacian_kernel\n",
    "\n",
    "from scipy.integrate import quad\n",
    "from scipy.interpolate import interp1d\n",
    "\n",
    "from SyntheticDataModule import *\n",
    "from estimators import *\n",
    "from utils import *\n",
    "from mmr_utils import *"
   ]
  },
  {
   "cell_type": "code",
   "execution_count": null,
   "metadata": {
    "scrolled": false
   },
   "outputs": [],
   "source": [
    "mmr_keys = [\"IPCW\", \"IPW-Drop\"]\n",
    "CD = 10\n",
    "UC = 0\n",
    "jD = read_json('conditional-IC/samePO.json', CD, UC, mmr_keys)\n",
    "m = 1\n",
    "os_size = int(jD['rct_size'] * m)\n",
    "\n",
    "t1 = time()\n",
    "\n",
    "df_combined, df_comb_drop, RCTData, OSData = generate_data(CD, os_size, jD)\n",
    "Fb_Y, Gb_C = est_nuisance(df_combined, df_comb_drop, jD)\n",
    "\n",
    "print('RCT size: {}, OS size: {}, time elapsed: {:.2f}'.format(jD['rct_size'], os_size, time() - t1))\n",
    "\n",
    "summary_df = pd.concat([RCTData.summary(plot=True), OSData.summary(plot=True)], axis=0, ignore_index=True)\n",
    "summary_df\n",
    "\n",
    "crop_prop = True\n",
    "\n",
    "mmr_stats = np.zeros((len(mmr_keys), 2))  # store results and p-val for each mmr test\n",
    "\n",
    "for kind, key in enumerate(mmr_keys):\n",
    "    if 'Drop' in key:\n",
    "        df_mmr = df_comb_drop.copy()\n",
    "    else:\n",
    "        df_mmr = df_combined.copy()\n",
    "\n",
    "    if jD['crop_prop'] and ('Drop' not in key):\n",
    "        df_mmr = df_mmr[(0.05 < df_mmr['P(S=1|X)']) & (df_mmr['P(S=1|X)'] < 0.95) &\\\n",
    "                (0.05 < df_mmr['P(A=1|X,S)']) & (df_mmr['P(A=1|X,S)'] < 0.95) &\\\n",
    "                (0.05 < df_mmr['Gb(T|X,S,A)'])].copy().reset_index(drop=True)\n",
    "\n",
    "    if jD['crop_prop'] and ('Drop' in key):\n",
    "        df_mmr = df_mmr[(0.05 < df_mmr['P(S=1|X)']) & (df_mmr['P(S=1|X)'] < 0.95) &\\\n",
    "                (0.05 < df_mmr['P(A=1|X,S)']) & (df_mmr['P(A=1|X,S)'] < 0.95)].copy().reset_index(drop=True)\n",
    "\n",
    "    signal0, signal1 = jD['test_signals'][key][0], jD['test_signals'][key][1]\n",
    "    mmr_stats[kind, 0], mmr_stats[kind, 1] = mmr_test(df_mmr, jD['cov_list'], jD['B'], laplacian_kernel, signal0, signal1)"
   ]
  },
  {
   "cell_type": "code",
   "execution_count": null,
   "metadata": {},
   "outputs": [],
   "source": [
    "mmr_stats"
   ]
  },
  {
   "cell_type": "code",
   "execution_count": null,
   "metadata": {},
   "outputs": [],
   "source": [
    "df_mmr"
   ]
  },
  {
   "cell_type": "code",
   "execution_count": null,
   "metadata": {},
   "outputs": [],
   "source": [
    "df_combined.describe()"
   ]
  },
  {
   "cell_type": "code",
   "execution_count": null,
   "metadata": {},
   "outputs": [],
   "source": [
    "summary_df"
   ]
  },
  {
   "cell_type": "code",
   "execution_count": null,
   "metadata": {},
   "outputs": [],
   "source": [
    "mu_est_baseline(df_combined.query(, target, feature, model_name='XGboost')"
   ]
  },
  {
   "cell_type": "code",
   "execution_count": null,
   "metadata": {},
   "outputs": [],
   "source": [
    "df_combined"
   ]
  },
  {
   "cell_type": "code",
   "execution_count": null,
   "metadata": {},
   "outputs": [],
   "source": [
    "df_combined[df_combined[]]"
   ]
  },
  {
   "cell_type": "code",
   "execution_count": null,
   "metadata": {},
   "outputs": [],
   "source": [
    "np.sum((df_combined.S == 0) & (df_combined.A == 0))"
   ]
  },
  {
   "cell_type": "code",
   "execution_count": null,
   "metadata": {},
   "outputs": [],
   "source": [
    "a=['1', '2', '3', '4']"
   ]
  },
  {
   "cell_type": "code",
   "execution_count": null,
   "metadata": {},
   "outputs": [],
   "source": [
    "any(item in ['1', 'b'] for item in a)"
   ]
  },
  {
   "cell_type": "code",
   "execution_count": null,
   "metadata": {},
   "outputs": [],
   "source": [
    "!pip install XGboost"
   ]
  },
  {
   "cell_type": "code",
   "execution_count": null,
   "metadata": {},
   "outputs": [],
   "source": [
    "mmr_stats"
   ]
  },
  {
   "cell_type": "code",
   "execution_count": null,
   "metadata": {},
   "outputs": [],
   "source": [
    "mis_spec = 'Fb'\n",
    "\n",
    "s, a = 1,0\n",
    "x = np.zeros(CD + 1)\n",
    "ty, sty = Fb_Y[f't_S{s}_A{a}'], Fb_Y[f'St_S{s}_A{a}_misspec']\n",
    "tc, stc = Gb_C[f't_S{s}_A{a}'], Gb_C[f'St_S{s}_A{a}_misspec']\n",
    "\n",
    "t_arr = ty #\n",
    "st_arr = sty  \n",
    "\n",
    "func = interp1d(t_arr, st_arr, kind='nearest', fill_value='extrapolate')\n",
    "\n",
    "xnew = np.arange(0, t_arr.max(), 0.1)\n",
    "ynew = func(xnew)   # use interpolation function returned by `interp1d`\n",
    "\n",
    "plt.plot(t_arr, st_arr, 'o', xnew, ynew, '--')\n",
    "plt.show()\n",
    "\n",
    "Trange = tc.copy()\n",
    "\n",
    "t1 = time()\n",
    "q_arr = eval_Qfunc_arr_(s, a, x, Trange, Fb_Y, mis_spec)\n",
    "print(f\"Time: {time() - t1}\")\n",
    "plt.figure()\n",
    "plt.plot(Trange, q_arr)\n",
    "plt.show()"
   ]
  },
  {
   "cell_type": "code",
   "execution_count": null,
   "metadata": {},
   "outputs": [],
   "source": [
    "row = 2088\n",
    "\n",
    "s = df_combined.loc[row, 'S']\n",
    "a = df_combined.loc[row, 'A']\n",
    "x = np.array(df_combined.loc[row, jD['cov_list']])\n",
    "T = df_combined.loc[row, 'T']\n",
    "Delta = df_combined.loc[row, 'Delta']\n",
    "\n",
    "df_combined.loc[row]"
   ]
  },
  {
   "cell_type": "code",
   "execution_count": null,
   "metadata": {},
   "outputs": [],
   "source": [
    "row = 922\n",
    "\n",
    "s = df_mmr.loc[row, 'S']\n",
    "a = df_mmr.loc[row, 'A']\n",
    "x = np.array(df_combined.loc[row, jD['cov_list']])\n",
    "T = df_mmr.loc[row, 'T']\n",
    "Delta = df_mmr.loc[row, 'Delta']\n",
    "\n",
    "df_mmr.loc[row]"
   ]
  },
  {
   "cell_type": "code",
   "execution_count": null,
   "metadata": {},
   "outputs": [],
   "source": [
    "mis_spec = 'None'"
   ]
  },
  {
   "cell_type": "code",
   "execution_count": null,
   "metadata": {},
   "outputs": [],
   "source": [
    "eval_surv_(Gb_C[f't_S{s}_A{a}'], Gb_C[f'St_S{s}_A{a}'], T)"
   ]
  },
  {
   "cell_type": "code",
   "execution_count": null,
   "metadata": {},
   "outputs": [],
   "source": [
    "eval_int_term_(s, a, x, T, Gb_C, Fb_Y, mis_spec)"
   ]
  },
  {
   "cell_type": "code",
   "execution_count": null,
   "metadata": {},
   "outputs": [],
   "source": [
    "eval_Ystar_(s, a, x, Delta, T, Gb_C, Fb_Y, mis_spec)"
   ]
  },
  {
   "cell_type": "code",
   "execution_count": null,
   "metadata": {},
   "outputs": [],
   "source": [
    "eval_Qfunc_(s, a, x, T, Fb_Y, mis_spec)"
   ]
  },
  {
   "cell_type": "code",
   "execution_count": null,
   "metadata": {},
   "outputs": [],
   "source": [
    "eval_mu_(s, 1, x, Fb_Y, mis_spec)"
   ]
  },
  {
   "cell_type": "code",
   "execution_count": null,
   "metadata": {},
   "outputs": [],
   "source": [
    "s, a = 0, 0\n",
    "ty, sty = Fb_Y[f't_S{s}_A{a}'], Fb_Y[f'St_S{s}_A{a}']\n",
    "tc, stc = Gb_C[f't_S{s}_A{a}'], Gb_C[f'St_S{s}_A{a}']\n",
    "\n",
    "t_arr = tc #\n",
    "st_arr = stc  \n",
    "\n",
    "t1 = time()\n",
    "func = interp1d(t_arr, st_arr, kind='nearest', fill_value='extrapolate')\n",
    "result, error = quad(func, 0, t_arr.max() + 10, limit=5)\n",
    "\n",
    "print(f\"Time: {time()-t1:.2f} s.\")\n",
    "print(f\"Result of integration: {result}, error: {error}\")\n",
    "\n",
    "xnew = np.arange(0, t_arr.max(), 0.1)\n",
    "ynew = func(xnew)   # use interpolation function returned by `interp1d`\n",
    "plt.plot(t_arr, st_arr, 'o', xnew, ynew, '--')\n",
    "plt.show()"
   ]
  },
  {
   "cell_type": "code",
   "execution_count": null,
   "metadata": {},
   "outputs": [],
   "source": [
    "pv = np.load('results/complete-IC/samePO/CD-10/UC-0/pvals.npy')\n",
    "csv = pd.read_csv('results/complete-IC/samePO/CD-10/UC-0/res_summary.csv')\n",
    "\n",
    "np.mean(pv[2], axis=1)"
   ]
  },
  {
   "cell_type": "code",
   "execution_count": null,
   "metadata": {},
   "outputs": [],
   "source": [
    "for s in range(2):\n",
    "    for a in range(2):\n",
    "        print('-----\\n-----')\n",
    "        #df = df_combined.query(f\"S == {s} & A == {a}\").copy()  # all data\n",
    "        df = df_mmr.query(f\"S == {s} & A == {a}\").copy()       # goes into MMR (after cropping etc.)\n",
    "\n",
    "        Ystar_No_miss = f'S{s}_Ystar{a}_Miss_None_est_CATE'\n",
    "        Ystar_Fb_miss = f'S{s}_Ystar{a}_Miss_Fb_est_CATE'\n",
    "        Ystar_Gb_miss = f'S{s}_Ystar{a}_Miss_Gb_est_CATE'\n",
    "        \n",
    "        mu_No_miss = f'S{s}_muxsa{a}_Miss_None_est_CATE'\n",
    "        mu_Fb_miss = f'S{s}_muxsa{a}_Miss_Fb_est_CATE'\n",
    "        mu_Gb_miss = f'S{s}_muxsa{a}_Miss_Gb_est_CATE'\n",
    "\n",
    "        print(\"E[Y|S={}, A={}]: {:.2f}\".format(s ,a, df[f'Y{a}'].mean()))\n",
    "        print(\"E[Ystar_No_miss|S={}, A={}]: {:.2f}\".format(s, a, df[Ystar_No_miss].mean()))\n",
    "        print(\"E[Ystar_Fb_miss|S={}, A={}]: {:.2f}\".format(s, a, df[Ystar_Fb_miss].mean()))\n",
    "        print(\"E[Ystar_Gb_miss|S={}, A={}]: {:.2f}\".format(s, a, df[Ystar_Gb_miss].mean()))\n",
    "        print(\"E[mu_No_miss|S={}, A={}]: {:.2f}\".format(s, a, df[mu_No_miss].mean()))\n",
    "        print(\"E[mu_Fb_miss|S={}, A={}]: {:.2f}\".format(s, a, df[mu_Fb_miss].mean()))\n",
    "        print(\"E[mu_Gb_miss|S={}, A={}]: {:.2f}\".format(s, a, df[mu_Gb_miss].mean()))"
   ]
  },
  {
   "cell_type": "code",
   "execution_count": null,
   "metadata": {
    "scrolled": false
   },
   "outputs": [],
   "source": [
    "x_space = np.linspace(-10,10,401)\n",
    "cov_name = 'X1'\n",
    "os_oracle_prop = OSData.calc_oracle_prop(x_space, cov_name)\n",
    "plt.figure()\n",
    "plt.plot(x_space, os_oracle_prop)\n",
    "plt.xlabel(cov_name)\n",
    "plt.ylabel(f'P(A=1|{cov_name},S=1)')\n",
    "plt.title(f'Oracle propensity score in study S=1 wrt covariate {cov_name}')\n",
    "plt.show()\n",
    "\n",
    "t = np.linspace(0,20,101)\n",
    "cov_vals = [0, 0, 0, 0]\n",
    "tbs_Y0 = RCTData.get_oracle_surv_curve(t, cov_vals, 'Y0')\n",
    "tbs_Y1 = RCTData.get_oracle_surv_curve(t, cov_vals, 'Y1')\n",
    "tbs_C0 = RCTData.get_oracle_surv_curve(t, cov_vals, 'C0')\n",
    "tbs_C1 = RCTData.get_oracle_surv_curve(t, cov_vals, 'C1')\n",
    "plt.figure()\n",
    "plt.plot(t, tbs_Y0, label='Y0', alpha= 0.4, ls ='--')\n",
    "plt.plot(t, tbs_Y1, label='Y1', alpha= 1, ls ='-.')\n",
    "plt.plot(t, tbs_C0, label='C0', alpha= 0.4)\n",
    "plt.plot(t, tbs_C1, label='C1', alpha= 0.4)\n",
    "plt.xlabel('t')\n",
    "plt.ylabel(r'$S(t)$')\n",
    "plt.title(f'True survival curves in study S=0 with X={cov_vals}')\n",
    "plt.legend()\n",
    "plt.show()"
   ]
  }
 ],
 "metadata": {
  "kernelspec": {
   "display_name": "Python 3 (ipykernel)",
   "language": "python",
   "name": "python3"
  },
  "language_info": {
   "codemirror_mode": {
    "name": "ipython",
    "version": 3
   },
   "file_extension": ".py",
   "mimetype": "text/x-python",
   "name": "python",
   "nbconvert_exporter": "python",
   "pygments_lexer": "ipython3",
   "version": "3.10.12"
  }
 },
 "nbformat": 4,
 "nbformat_minor": 2
}
