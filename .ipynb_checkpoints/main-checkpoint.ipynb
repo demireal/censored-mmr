{
 "cells": [
  {
   "cell_type": "code",
   "execution_count": 1,
   "metadata": {},
   "outputs": [],
   "source": [
    "import warnings\n",
    "warnings.filterwarnings(\"ignore\")\n",
    "\n",
    "import numpy as np\n",
    "import pandas as pd\n",
    "import matplotlib.pyplot as plt\n",
    "import json\n",
    "\n",
    "from scipy.integrate import quad\n",
    "from scipy.interpolate import interp1d\n",
    "\n",
    "from SyntheticDataModule import *\n",
    "from estimators import *\n",
    "from utils import *"
   ]
  },
  {
   "cell_type": "code",
   "execution_count": null,
   "metadata": {
    "scrolled": false
   },
   "outputs": [],
   "source": [
    "rct_size = 500\n",
    "m = 1\n",
    "CD = 1\n",
    "UC = 0\n",
    "\n",
    "jD = read_json('complete-IC/samePO.json', CD, UC, [\"IPCW\", \"CDR\"])\n",
    "test_signals = jD[\"test_signals\"]\n",
    "\n",
    "\n",
    "RCTData = SyntheticDataModule(jD['save_df'], CD, rct_size, 0, jD['RCT']['px_dist'], jD['RCT']['px_args'], jD['RCT']['prop_fn'], jD['RCT']['prop_args'], jD['RCT']['tte_params'])\n",
    "OSData = SyntheticDataModule(jD['save_df'], CD, rct_size * m, 1, jD['OS']['px_dist'], jD['OS']['px_args'], jD['OS']['prop_fn'], jD['OS']['prop_args'], jD['OS']['tte_params'])\n",
    "\n",
    "df_rct_oracle, df_rct = RCTData.get_df()\n",
    "df_os_oracle, df_os = OSData.get_df()\n",
    "\n",
    "df_combined = pd.concat([df_rct, df_os], axis=0, ignore_index=True)  # merge the dataframes into one\n",
    "df_comb_drop = df_combined.query('Delta == 1').reset_index(drop=True).copy()  # drop the censored observations\n",
    "\n",
    "# Estimate the nuisance parameters for the combined dataframe\n",
    "\n",
    "df_combined['P(S=1|X)'] = prop_score_est(df_combined.copy(), 'S', jD['cov_list'], 'logistic')\n",
    "\n",
    "df_combined.loc[df_combined.S==0, 'P(A=1|X,S)'] = prop_score_est(df_combined.query('S==0').copy(), 'A', jD['cov_list'], 'logistic')\n",
    "df_combined.loc[df_combined.S==1, 'P(A=1|X,S)'] = prop_score_est(df_combined.query('S==1').copy(), 'A', jD['cov_list'], 'logistic')\n",
    "\n",
    "cbse, ybse = est_surv(df_combined, jD['cov_list'], tte_model='coxph')\n",
    "fill_barG(df_combined, jD['cov_list'], cbse)\n",
    "\n",
    "if any(\"IPCW\" in key for key in test_signals.keys()):\n",
    "    ipcw_est(df_combined, S=0)\n",
    "    ipcw_est(df_combined, S=1)\n",
    "\n",
    "if any(\"IPW-Impute\" in key for key in test_signals.keys()):\n",
    "    ipw_est(df_combined, S=0, baseline='impute')  # censored observations are IMPUTED\n",
    "    ipw_est(df_combined, S=1, baseline='impute')  # censored observations are IMPUTED\n",
    "\n",
    "if any(\"CDR\" in key for key in test_signals.keys()):\n",
    "    cdr_est(df_combined, jD['cov_list'], cbse, ybse, S=0)  \n",
    "    cdr_est(df_combined, jD['cov_list'], cbse, ybse, S=1) \n",
    "\n",
    "# Estimate the nuisance parameters for the combined dataframe with censored observations dropped\n",
    "    \n",
    "if any(\"IPW-Drop\" in key for key in test_signals.keys()):\n",
    "    df_comb_drop['P(S=1|X)'] = prop_score_est(df_comb_drop.copy(), 'S', jD['cov_list'], 'logistic')\n",
    "\n",
    "    df_comb_drop.loc[df_comb_drop.S==0, 'P(A=1|X,S)'] = prop_score_est(df_comb_drop.query('S==0').copy(), 'A', jD['cov_list'], 'logistic')\n",
    "    df_comb_drop.loc[df_comb_drop.S==1, 'P(A=1|X,S)'] = prop_score_est(df_comb_drop.query('S==1').copy(), 'A', jD['cov_list'], 'logistic')\n",
    "\n",
    "    ipw_est(df_comb_drop, S=0, baseline='drop')  # censored observations are DROPPED\n",
    "    ipw_est(df_comb_drop, S=1, baseline='drop')  # censored observations are DROPPED\n",
    "\n",
    "summary_df = pd.concat([RCTData.summary(plot=True), OSData.summary(plot=True)], axis=0, ignore_index=True)\n",
    "summary_df"
   ]
  },
  {
   "cell_type": "code",
   "execution_count": null,
   "metadata": {},
   "outputs": [],
   "source": []
  },
  {
   "cell_type": "code",
   "execution_count": null,
   "metadata": {},
   "outputs": [],
   "source": [
    "a = np.array([3,4,5]) * np.array([1,2,3])"
   ]
  },
  {
   "cell_type": "code",
   "execution_count": null,
   "metadata": {},
   "outputs": [],
   "source": [
    "np.cumsum(np.array([1,3,7]))"
   ]
  },
  {
   "cell_type": "code",
   "execution_count": null,
   "metadata": {},
   "outputs": [],
   "source": [
    "orig_list = [2, 4, 7, 11, 16, 22, 29]"
   ]
  },
  {
   "cell_type": "code",
   "execution_count": null,
   "metadata": {},
   "outputs": [],
   "source": [
    "[b - a for a, b in zip(orig_list, orig_list[1:])]"
   ]
  },
  {
   "cell_type": "code",
   "execution_count": null,
   "metadata": {},
   "outputs": [],
   "source": [
    "df_combined"
   ]
  },
  {
   "cell_type": "code",
   "execution_count": null,
   "metadata": {},
   "outputs": [],
   "source": [
    "df_combined['P(S=1|X)'].max()"
   ]
  },
  {
   "cell_type": "code",
   "execution_count": null,
   "metadata": {},
   "outputs": [],
   "source": [
    "df_new = df_combined\n",
    "df_new_drop = df_comb_drop"
   ]
  },
  {
   "cell_type": "code",
   "execution_count": null,
   "metadata": {},
   "outputs": [],
   "source": [
    "print('IPCW-S0-Y0: {:.2f}'.format(df_new['S0_ipcw_est_Y0'].mean()))\n",
    "print('IPCW-S0-Y1: {:.2f}'.format(df_new['S0_ipcw_est_Y1'].mean()))\n",
    "print('IPCW-S0-ATE: {:.2f}\\n'.format(df_new['S0_ipcw_est_CATE'].mean()))\n",
    "\n",
    "print('IPCW-S1-Y0: {:.2f}'.format(df_new['S1_ipcw_est_Y0'].mean()))\n",
    "print('IPCW-S1-Y1: {:.2f}'.format(df_new['S1_ipcw_est_Y1'].mean()))\n",
    "print('IPCW-S1-ATE: {:.2f}\\n'.format(df_new['S1_ipcw_est_CATE'].mean()))\n",
    "\n",
    "print('IPW-Impute-S0-Y0: {:.2f}'.format(df_new['S0_impute_ipw_est_Y0'].mean()))\n",
    "print('IPW-Impute-S0-Y1: {:.2f}'.format(df_new['S0_impute_ipw_est_Y1'].mean()))\n",
    "print('IPW-Impute-S0-ATE: {:.2f}\\n'.format(df_new['S0_impute_ipw_est_CATE'].mean()))\n",
    "\n",
    "print('IPW-Impute-S1-Y0: {:.2f}'.format(df_new['S1_impute_ipw_est_Y0'].mean()))\n",
    "print('IPW-Impute-S1-Y1: {:.2f}'.format(df_new['S1_impute_ipw_est_Y1'].mean()))\n",
    "print('IPW-Impute-S1-ATE: {:.2f}\\n'.format(df_new['S1_impute_ipw_est_CATE'].mean()))\n",
    "\n",
    "print('IPW-Drop-S0-Y0: {:.2f}'.format(df_new_drop['S0_drop_ipw_est_Y0'].mean()))\n",
    "print('IPW-Drop-S0-Y1: {:.2f}'.format(df_new_drop['S0_drop_ipw_est_Y1'].mean()))\n",
    "print('IPW-Drop-S0-ATE: {:.2f}\\n'.format(df_new_drop['S0_drop_ipw_est_CATE'].mean()))\n",
    "\n",
    "print('IPW-Drop-S1-Y0: {:.2f}'.format(df_new_drop['S1_drop_ipw_est_Y0'].mean()))\n",
    "print('IPW-Drop-S1-Y1: {:.2f}'.format(df_new_drop['S1_drop_ipw_est_Y1'].mean()))\n",
    "print('IPW-Drop-S1-ATE: {:.2f}'.format(df_new_drop['S1_drop_ipw_est_CATE'].mean()))\n",
    "\n",
    "summary_df"
   ]
  },
  {
   "cell_type": "code",
   "execution_count": null,
   "metadata": {},
   "outputs": [],
   "source": [
    "p_thr = 0.05\n",
    "\n",
    "df_new = df_combined[(p_thr < df_combined['P(S=1|X)']) & (df_combined['P(S=1|X)'] < 1 - p_thr) &\\\n",
    "            (p_thr < df_combined['P(A=1|X,S)']) & (df_combined['P(A=1|X,S)'] < 1 - p_thr)].copy().reset_index(drop=True)\n",
    "\n",
    "df_new_drop = df_comb_drop[(p_thr < df_comb_drop['P(S=1|X)']) & (df_comb_drop['P(S=1|X)'] < 1 - p_thr) &\\\n",
    "            (p_thr < df_comb_drop['P(A=1|X,S)']) & (df_comb_drop['P(A=1|X,S)'] < 1 - p_thr)].copy().reset_index(drop=True)"
   ]
  },
  {
   "cell_type": "code",
   "execution_count": null,
   "metadata": {},
   "outputs": [],
   "source": [
    "len(df_new)"
   ]
  },
  {
   "cell_type": "code",
   "execution_count": null,
   "metadata": {},
   "outputs": [],
   "source": [
    "df_combined.sort_values(by='P(S=1|X)')"
   ]
  },
  {
   "cell_type": "code",
   "execution_count": null,
   "metadata": {},
   "outputs": [],
   "source": [
    "df_new.sort_values(by='P(S=1|X)')['P(S=1|X)']"
   ]
  },
  {
   "cell_type": "code",
   "execution_count": null,
   "metadata": {
    "scrolled": false
   },
   "outputs": [],
   "source": [
    "x_space = np.linspace(-10,10,401)\n",
    "cov_name = 'X1'\n",
    "os_oracle_prop = OSData.calc_oracle_prop(x_space, cov_name)\n",
    "plt.figure()\n",
    "plt.plot(x_space, os_oracle_prop)\n",
    "plt.xlabel(cov_name)\n",
    "plt.ylabel(f'P(A=1|{cov_name},S=1)')\n",
    "plt.title(f'Oracle propensity score in study S=1 wrt covariate {cov_name}')\n",
    "plt.show()\n",
    "\n",
    "t = np.linspace(0,20,101)\n",
    "cov_vals = [0, 0, 0, 0]\n",
    "tbs_Y0 = RCTData.get_oracle_surv_curve(t, cov_vals, 'Y0')\n",
    "tbs_Y1 = RCTData.get_oracle_surv_curve(t, cov_vals, 'Y1')\n",
    "tbs_C0 = RCTData.get_oracle_surv_curve(t, cov_vals, 'C0')\n",
    "tbs_C1 = RCTData.get_oracle_surv_curve(t, cov_vals, 'C1')\n",
    "plt.figure()\n",
    "plt.plot(t, tbs_Y0, label='Y0', alpha= 0.4, ls ='--')\n",
    "plt.plot(t, tbs_Y1, label='Y1', alpha= 1, ls ='-.')\n",
    "plt.plot(t, tbs_C0, label='C0', alpha= 0.4)\n",
    "plt.plot(t, tbs_C1, label='C1', alpha= 0.4)\n",
    "plt.xlabel('t')\n",
    "plt.ylabel(r'$S(t)$')\n",
    "plt.title(f'True survival curves in study S=0 with X={cov_vals}')\n",
    "plt.legend()\n",
    "plt.show()"
   ]
  },
  {
   "cell_type": "code",
   "execution_count": null,
   "metadata": {},
   "outputs": [],
   "source": [
    "t = np.linspace(0,10,101)\n",
    "cov_vals = np.zeros(11)\n",
    "tbs_Y0 = RCTData.get_oracle_surv_curve(t, cov_vals, 'Y0')\n",
    "\n",
    "plt.figure()\n",
    "plt.plot(t, tbs_Y0, label='Y0', alpha=0.8, ls ='--')\n",
    "plt.plot(ybse['t_S0_A0'], ybse['St_S0_A0'])\n",
    "plt.xlabel('t')\n",
    "plt.ylabel(r'$S(t)$')\n",
    "plt.title(f'True survival curves in study S=0 with X={cov_vals}')\n",
    "plt.legend()\n",
    "plt.show()"
   ]
  },
  {
   "cell_type": "code",
   "execution_count": null,
   "metadata": {},
   "outputs": [],
   "source": [
    "t = np.linspace(0,10,101)\n",
    "cov_vals = [0, 0, 0, 0]\n",
    "tbs_C1 = RCTData.get_oracle_surv_curve(t, cov_vals, 'C1')\n",
    "\n",
    "plt.figure()\n",
    "plt.plot(t, tbs_C1, label='C1', alpha=0.8, ls ='--')\n",
    "plt.plot(cbse['t_S0_C1'], cbse['St_S0_C1'])\n",
    "plt.xlabel('t')\n",
    "plt.ylabel(r'$S(t)$')\n",
    "plt.title(f'True survival curves in study S=0 with X={cov_vals}')\n",
    "plt.legend()\n",
    "plt.show()"
   ]
  },
  {
   "cell_type": "code",
   "execution_count": null,
   "metadata": {},
   "outputs": [],
   "source": [
    "t = np.linspace(0,10,101)\n",
    "cov_vals = [0, 0, 0, 0]\n",
    "tbs_C0 = OSData.get_oracle_surv_curve(t, cov_vals, 'C0')\n",
    "\n",
    "plt.figure()\n",
    "plt.plot(t, tbs_C0, label='C0', alpha=0.8, ls ='--')\n",
    "plt.plot(cbse['t_S1_C0'], cbse['St_S1_C0'])\n",
    "plt.xlabel('t')\n",
    "plt.ylabel(r'$S(t)$')\n",
    "plt.title(f'True survival curves in study S=0 with X={cov_vals}')\n",
    "plt.legend()\n",
    "plt.show()"
   ]
  },
  {
   "cell_type": "code",
   "execution_count": null,
   "metadata": {},
   "outputs": [],
   "source": [
    "t = np.linspace(0,10,101)\n",
    "cov_vals = [0, 0, 0, 0]\n",
    "tbs_C1 = OSData.get_oracle_surv_curve(t, cov_vals, 'C1')\n",
    "\n",
    "plt.figure()\n",
    "plt.plot(t, tbs_C1, label='C1', alpha=0.8, ls ='--')\n",
    "plt.plot(cbse['t_S1_C1'], cbse['St_S1_C1'])\n",
    "plt.xlabel('t')\n",
    "plt.ylabel(r'$S(t)$')\n",
    "plt.title(f'True survival curves in study S=0 with X={cov_vals}')\n",
    "plt.legend()\n",
    "plt.show()"
   ]
  },
  {
   "cell_type": "code",
   "execution_count": null,
   "metadata": {},
   "outputs": [],
   "source": [
    "s, a = 0, 0\n",
    "ty, sty = ybse[f't_S{s}_A{a}'], ybse[f'St_S{s}_A{a}']\n",
    "tc, stc = cbse[f't_S{s}_A{a}'], cbse[f'St_S{s}_A{a}']"
   ]
  },
  {
   "cell_type": "code",
   "execution_count": null,
   "metadata": {},
   "outputs": [],
   "source": [
    "s, a = 0, 1\n",
    "ty, sty = ybse[f't_S{s}_A{a}'], ybse[f'St_S{s}_A{a}']\n",
    "tc, stc = cbse[f't_S{s}_A{a}'], cbse[f'St_S{s}_A{a}']\n",
    "\n",
    "t_arr = tc #\n",
    "st_arr = stc  \n",
    "\n",
    "func = interp1d(t_arr, st_arr, kind='nearest-up', fill_value='extrapolate')\n",
    "result, _ = quad(func, 0, t_arr.max() + 10, limit=100)\n",
    "\n",
    "print(\"Result of integration:\", result)\n",
    "\n",
    "xnew = np.arange(0, t_arr.max() + 10, 0.1)\n",
    "ynew = func(xnew)   # use interpolation function returned by `interp1d`\n",
    "plt.plot(t_arr, st_arr, 'o', xnew, ynew, '--')\n",
    "plt.show()"
   ]
  },
  {
   "cell_type": "code",
   "execution_count": null,
   "metadata": {},
   "outputs": [],
   "source": [
    "original_array = np.array([1, 3, 7])\n",
    "\n",
    "shift_cumsum = np.roll(np.cumsum(original_array), 1)\n",
    "shift_cumsum[0] = 0  \n",
    "new_array = np.sum(original_array) - shift_cumsum"
   ]
  },
  {
   "cell_type": "code",
   "execution_count": null,
   "metadata": {},
   "outputs": [],
   "source": [
    "new_array"
   ]
  },
  {
   "cell_type": "code",
   "execution_count": null,
   "metadata": {},
   "outputs": [],
   "source": [
    "np.append(aaa, 1)"
   ]
  },
  {
   "cell_type": "code",
   "execution_count": null,
   "metadata": {},
   "outputs": [],
   "source": [
    "aaa = np.append(aaa, 1)"
   ]
  },
  {
   "cell_type": "code",
   "execution_count": null,
   "metadata": {},
   "outputs": [],
   "source": [
    "aaa"
   ]
  },
  {
   "cell_type": "code",
   "execution_count": null,
   "metadata": {},
   "outputs": [],
   "source": []
  },
  {
   "cell_type": "code",
   "execution_count": null,
   "metadata": {},
   "outputs": [],
   "source": [
    "t_arr.max()"
   ]
  },
  {
   "cell_type": "code",
   "execution_count": null,
   "metadata": {},
   "outputs": [],
   "source": [
    "np.unique(stc)"
   ]
  },
  {
   "cell_type": "code",
   "execution_count": null,
   "metadata": {},
   "outputs": [],
   "source": [
    "len(tc)"
   ]
  },
  {
   "cell_type": "code",
   "execution_count": null,
   "metadata": {},
   "outputs": [],
   "source": [
    "stcder = [stc[i+1] - stc[i] for i in range(len(stc) - 1)]"
   ]
  },
  {
   "cell_type": "code",
   "execution_count": null,
   "metadata": {},
   "outputs": [],
   "source": [
    "np.unique(stcder)"
   ]
  },
  {
   "cell_type": "code",
   "execution_count": null,
   "metadata": {},
   "outputs": [],
   "source": [
    "x = np.array([1, 2, 4, 7, 11])\n",
    "\n",
    "# Calculate the derivative using numpy.gradient()\n",
    "dx = np.gradient(x)\n",
    "\n",
    "print(dx)"
   ]
  },
  {
   "cell_type": "code",
   "execution_count": null,
   "metadata": {},
   "outputs": [],
   "source": [
    "len(np.gradient(stc))"
   ]
  },
  {
   "cell_type": "code",
   "execution_count": null,
   "metadata": {},
   "outputs": [],
   "source": [
    "len(stc)"
   ]
  },
  {
   "cell_type": "code",
   "execution_count": null,
   "metadata": {},
   "outputs": [],
   "source": [
    "np.gradient(1 - stc)"
   ]
  },
  {
   "cell_type": "code",
   "execution_count": null,
   "metadata": {},
   "outputs": [],
   "source": [
    "target_val = 5\n",
    "t_arr[np.argmin(np.abs(target_val - t_arr))]"
   ]
  },
  {
   "cell_type": "code",
   "execution_count": null,
   "metadata": {},
   "outputs": [],
   "source": [
    "np.argmax(t_arr[np.where(t_arr < target_val)[0]])"
   ]
  },
  {
   "cell_type": "code",
   "execution_count": null,
   "metadata": {},
   "outputs": [],
   "source": [
    "np.where(t_arr < target_val)[0][-1]"
   ]
  },
  {
   "cell_type": "code",
   "execution_count": null,
   "metadata": {},
   "outputs": [],
   "source": [
    "a = np.zeros(80)\n",
    "k = len(a) // 100\n",
    "len(a[::k])"
   ]
  },
  {
   "cell_type": "code",
   "execution_count": null,
   "metadata": {},
   "outputs": [],
   "source": [
    "import numpy as np"
   ]
  },
  {
   "cell_type": "code",
   "execution_count": null,
   "metadata": {},
   "outputs": [],
   "source": []
  },
  {
   "cell_type": "code",
   "execution_count": null,
   "metadata": {},
   "outputs": [],
   "source": [
    "my_dict = {\n",
    "        \"IPCW\": [\"S0_ipcw_est_CATE\", \"S1_ipcw_est_CATE\"],\n",
    "        \"CDR\": [\"S0_cdr_est_CATE\", \"S1_cdr_est_CATE\"],\n",
    "        \"IPW-Impute\": [\"S0_impute_ipw_est_CATE\", \"S1_impute_ipw_est_CATE\"],\n",
    "        \"IPW-Drop\": [\"S0_drop_ipw_est_CATE\", \"S1_drop_ipw_est_CATE\"]\n",
    "        }"
   ]
  },
  {
   "cell_type": "code",
   "execution_count": null,
   "metadata": {},
   "outputs": [],
   "source": [
    "any(\"Impute-IPWW\" in key for key in my_dict.keys())"
   ]
  },
  {
   "cell_type": "code",
   "execution_count": null,
   "metadata": {},
   "outputs": [],
   "source": [
    "{key: value for key, value in my_dict.items() if key in [\"IPCW\", \"CDR\"]}"
   ]
  },
  {
   "cell_type": "code",
   "execution_count": null,
   "metadata": {},
   "outputs": [],
   "source": []
  }
 ],
 "metadata": {
  "kernelspec": {
   "display_name": "Python 3 (ipykernel)",
   "language": "python",
   "name": "python3"
  },
  "language_info": {
   "codemirror_mode": {
    "name": "ipython",
    "version": 3
   },
   "file_extension": ".py",
   "mimetype": "text/x-python",
   "name": "python",
   "nbconvert_exporter": "python",
   "pygments_lexer": "ipython3",
   "version": "3.10.6"
  }
 },
 "nbformat": 4,
 "nbformat_minor": 2
}
