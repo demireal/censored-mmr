{
 "cells": [
  {
   "cell_type": "code",
   "execution_count": 4,
   "metadata": {},
   "outputs": [],
   "source": [
    "import warnings\n",
    "warnings.filterwarnings(\"ignore\")\n",
    "\n",
    "import numpy as np\n",
    "import pandas as pd\n",
    "import matplotlib.pyplot as plt\n",
    "import json\n",
    "\n",
    "from SyntheticDataModule import *\n",
    "from estimators import *\n",
    "from utils import *"
   ]
  },
  {
   "cell_type": "code",
   "execution_count": 5,
   "metadata": {},
   "outputs": [],
   "source": [
    "with open('exp_configs/scratchpad.json', 'r') as file:\n",
    "    try:\n",
    "        jD = json.load(file)\n",
    "    except json.JSONDecodeError:\n",
    "        print(\"Invalid JSON format in the input file.\")"
   ]
  },
  {
   "cell_type": "code",
   "execution_count": 1,
   "metadata": {
    "scrolled": true
   },
   "outputs": [
    {
     "ename": "SyntaxError",
     "evalue": "positional argument follows keyword argument (3616053354.py, line 32)",
     "output_type": "error",
     "traceback": [
      "\u001b[0;36m  Cell \u001b[0;32mIn[1], line 32\u001b[0;36m\u001b[0m\n\u001b[0;31m    RCTData = SyntheticDataModule(save_df=False, d, rct_size, 0, px_dist_r, px_args_r, prop_fn_r, prop_args_r, tte_params_r)\u001b[0m\n\u001b[0m                                                                                                                           ^\u001b[0m\n\u001b[0;31mSyntaxError\u001b[0m\u001b[0;31m:\u001b[0m positional argument follows keyword argument\n"
     ]
    }
   ],
   "source": [
    "RCTData = SyntheticDataModule(jD['save_df'], jD['cov_dim'], jD['rct_size'], 0, jD['RCT']['px_dist'], jD['RCT']['px_args'], jD['RCT']['prop_fn'], jD['RCT']['prop_args'], jD['RCT']['tte_params'])\n",
    "OSData = SyntheticDataModule(jD['save_df'], jD['cov_dim'], jD['rct_size'] * jD['maxm'], 1, jD['OS']['px_dist'], jD['OS']['px_args'], jD['OS']['prop_fn'], jD['OS']['prop_args'], jD['OS']['tte_params'])\n",
    "\n",
    "df_rct_oracle, df_rct = RCTData.get_df()\n",
    "df_os_oracle, df_os = OSData.get_df()\n",
    "df_combined = pd.concat([df_rct, df_os], axis=0, ignore_index=True)  # merge the dataframes into one\n",
    "\n",
    "summary_df = pd.concat([RCTData.summary(plot=True), OSData.summary(plot=True)], axis=0, ignore_index=True)\n",
    "summary_df"
   ]
  },
  {
   "cell_type": "code",
   "execution_count": null,
   "metadata": {},
   "outputs": [],
   "source": [
    "# x_space = np.linspace(-10,10,401)\n",
    "# cov_name = 'X1'\n",
    "# os_oracle_prop = OSData.calc_oracle_prop(x_space, cov_name)\n",
    "# plt.figure()\n",
    "# plt.plot(x_space, os_oracle_prop)\n",
    "# plt.xlabel(cov_name)\n",
    "# plt.ylabel(f'P(A=1|{cov_name},S=1)')\n",
    "# plt.title(f'Oracle propensity score in study S=1 wrt covariate {cov_name}')\n",
    "# plt.show()\n",
    "\n",
    "# t = np.linspace(0,10,101)\n",
    "# cov_vals = [0, 0]\n",
    "# tbs_Y0 = RCTData.get_oracle_surv_curve(t, cov_vals, 'Y0')\n",
    "# tbs_Y1 = RCTData.get_oracle_surv_curve(t, cov_vals, 'Y1')\n",
    "# tbs_C0 = RCTData.get_oracle_surv_curve(t, cov_vals, 'C0')\n",
    "# tbs_C1 = RCTData.get_oracle_surv_curve(t, cov_vals, 'C1')\n",
    "# plt.figure()\n",
    "# plt.plot(t, tbs_Y0, label='Y0')\n",
    "# plt.plot(t, tbs_Y1, label='Y1')\n",
    "# plt.plot(t, tbs_C0, label='C0')\n",
    "# plt.plot(t, tbs_C1, label='C1')\n",
    "# plt.xlabel('t')\n",
    "# plt.ylabel(r'$S(t)$')\n",
    "# plt.title(f'True survival curves in study S=0 with X={cov_vals}')\n",
    "# plt.legend()\n",
    "# plt.show()"
   ]
  },
  {
   "cell_type": "code",
   "execution_count": null,
   "metadata": {},
   "outputs": [],
   "source": [
    "a = np.load('results/sce1/pvals.npy')"
   ]
  }
 ],
 "metadata": {
  "kernelspec": {
   "display_name": "Python 3 (ipykernel)",
   "language": "python",
   "name": "python3"
  },
  "language_info": {
   "codemirror_mode": {
    "name": "ipython",
    "version": 3
   },
   "file_extension": ".py",
   "mimetype": "text/x-python",
   "name": "python",
   "nbconvert_exporter": "python",
   "pygments_lexer": "ipython3",
   "version": "3.10.6"
  }
 },
 "nbformat": 4,
 "nbformat_minor": 2
}
